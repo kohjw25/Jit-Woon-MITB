{
 "cells": [
  {
   "cell_type": "markdown",
   "metadata": {
    "deletable": false,
    "editable": false,
    "nbgrader": {
     "grade": false,
     "locked": true,
     "solution": false
    }
   },
   "source": [
    "# Module 7 Data Visualization\n",
    "\n",
    "**_Author: Favio Vázquez_**\n",
    "\n",
    "**Expected time = 2 hours**\n",
    "\n",
    "**Total points = 130 points**"
   ]
  },
  {
   "cell_type": "markdown",
   "metadata": {
    "deletable": false,
    "editable": false,
    "nbgrader": {
     "grade": false,
     "locked": true,
     "solution": false
    }
   },
   "source": [
    "## Assignment Overview\n",
    "\n",
    "In this assignment you will use matplotlib and pandas to create and customize a number of data visualizations. You will begin by creating a simple line plot and gradually build your skills to create more complex and customized visualizations. You will use pandas to create a pairs plot so you can display multiple scatter plots in one figure. Finally, you will wrap up the assignment by creating a time series visualization in matplotlib. **Please review the Important Instructions section below. You must adhere to these instructions to ensure the grading for this assignment works properly in Vocareum.** \n",
    "\n",
    "This assignment is designed to build your familiarity and comfort coding in Python while also helping you review key topics from each module. As you progress through the assignment, answers will get increasingly complex. It is important that you adopt a data scientist's mindset when completing this assignment. **Remember to run your code from each cell before submitting your assignment.** Running your code beforehand will notify you of errors and give you a chance to fix your errors before submitting. You should view your Vocareum submission as if you are delivering a final project to your manager or client. \n",
    "\n",
    "***Vocareum Tips***\n",
    "\n",
    "- Do not add arguments or options to functions unless you are specifically asked to. This will cause an error in Vocareum.\n",
    "- Do not use a library unless you are expicitly asked to in the question.\n",
    "\n",
    "\n",
    "### Learning Objectives\n",
    "\n",
    "- Use matplotlib to visualize data including basic plots and time series. \n",
    "- Explain the benefits and limitations of various data visualizations. \n",
    "- Examine various data visualization tools. \n",
    "- Select the appropriate data visualization to effectively communicate the dataset and analysis. "
   ]
  },
  {
   "cell_type": "markdown",
   "metadata": {
    "deletable": false,
    "editable": false,
    "nbgrader": {
     "grade": false,
     "locked": true,
     "solution": false
    }
   },
   "source": [
    "**IMPORTANT INSTRUCTIONS:** \n",
    "\n",
    "- To be able to test for this module, you will be asked to save your figures as PNG into a folder called \"results\". Please don't change the name we ask you to give to the plots so you are able to get all the points in every question. The code you will use to save the PNG files is: plt.savefig(\"results/plot.png\")\n",
    "- Don't add any customization you're not asked to in the plots."
   ]
  },
  {
   "cell_type": "markdown",
   "metadata": {
    "deletable": false,
    "editable": false,
    "nbgrader": {
     "grade": false,
     "locked": true,
     "solution": false
    }
   },
   "source": [
    "## Index:\n",
    "\n",
    "#### Module 7: Data Visualization.\n",
    "\n",
    "- [Question 1](#Question-1)\n",
    "- [Question 2](#Question-2)\n",
    "- [Question 3](#Question-3)\n",
    "- [Question 4](#Question-4)\n",
    "- [Question 5](#Question-5)\n",
    "- [Question 6](#Question-6)\n",
    "- [Question 7](#Question-7)\n",
    "- [Question 8](#Question-8)\n",
    "- [Question 9](#Question-9)\n",
    "- [Question 10](#Question-10)\n",
    "- [Question 11](#Question-11)\n",
    "- [Question 12](#Question-12)"
   ]
  },
  {
   "cell_type": "code",
   "execution_count": null,
   "metadata": {
    "collapsed": true,
    "deletable": false,
    "editable": false,
    "nbgrader": {
     "grade": false,
     "locked": true,
     "solution": false
    }
   },
   "outputs": [],
   "source": [
    "# Let's start by importing the libraries we will be using\n",
    "import pandas as pd\n",
    "import numpy as np\n",
    "import matplotlib.pyplot as plt\n",
    "from dateutil.parser import parse\n",
    "from sklearn import datasets\n",
    "import scipy.stats as sp\n",
    "import math\n",
    "\n",
    "# Avoid warnings\n",
    "import warnings\n",
    "warnings.filterwarnings(\"ignore\")"
   ]
  },
  {
   "cell_type": "markdown",
   "metadata": {
    "deletable": false,
    "editable": false,
    "nbgrader": {
     "grade": false,
     "locked": true,
     "solution": false
    }
   },
   "source": [
    "## Getting started with Matplotlib\n",
    "\n",
    "You will start by creating some basic plots with matplotlib. You will also label the `Xaxis` and `Yaxis` of your figures. "
   ]
  },
  {
   "cell_type": "markdown",
   "metadata": {
    "deletable": false,
    "editable": false,
    "nbgrader": {
     "grade": false,
     "locked": true,
     "solution": false
    }
   },
   "source": [
    "[Back to top](#Index:) \n",
    "\n",
    "### Question 1\n",
    "*5 points*\n",
    "\n",
    "Create a basic lineplot with the data x and y from below. Add a `y-label` with the words \"numbers y\" and add a `x-label` with the words \"numbers x\".\n",
    "\n",
    "Save your plot as a png with the name \"plot1.png\" in the folder \"results\"."
   ]
  },
  {
   "cell_type": "code",
   "execution_count": null,
   "metadata": {},
   "outputs": [],
   "source": [
    "### GRADED \n",
    "\n",
    "# Data\n",
    "x = [1,2,3,4]\n",
    "y = [1,2,3,4]\n",
    "\n",
    "plt.plot(x,y)\n",
    "plt.ylabel(\"numbers y\")\n",
    "plt.xlabel(\"numbers x\")\n",
    "plt.savefig(\"results/plot1.png\")\n"
   ]
  },
  {
   "cell_type": "code",
   "execution_count": null,
   "metadata": {
    "collapsed": true,
    "deletable": false,
    "editable": false,
    "nbgrader": {
     "grade": true,
     "grade_id": "Question 01",
     "locked": true,
     "points": "5",
     "solution": false
    }
   },
   "outputs": [],
   "source": [
    "###\n",
    "### AUTOGRADER TEST - DO NOT REMOVE\n",
    "###\n"
   ]
  },
  {
   "cell_type": "markdown",
   "metadata": {
    "deletable": false,
    "editable": false,
    "nbgrader": {
     "grade": false,
     "locked": true,
     "solution": false
    }
   },
   "source": [
    "[Back to top](#Index:) \n",
    "\n",
    "### Question 2\n",
    "*10 points*\n",
    "    \n",
    "Reproduce the plot from the image below. You will find the data in the grading cell. Make sure to limit the x axis to 0-6, and the y axis to 0-150.\n",
    "\n",
    "![](images/1.png)\n",
    "\n",
    "Save your plot as a png with the name \"plot2.png\" in the folder \"results\".\n",
    "\n",
    "**Hint: The first line should be red with circles 'ro', the second line shold be blue with squares 'bs', and the third line should be green with trianges 'g^'. You can find this plot in the first video of the module.**"
   ]
  },
  {
   "cell_type": "code",
   "execution_count": null,
   "metadata": {},
   "outputs": [],
   "source": [
    "### GRADED \n",
    "\n",
    "# Data\n",
    "t = np.arange(0., 5., 0.2)\n",
    "\n",
    "plt.plot(t, t, 'ro', t, t**2, 'bs', t, t**3, 'g^')\n",
    "plt.axis([0, 6, 0, 150])\n",
    "plt.savefig(\"results/plot2.png\")\n"
   ]
  },
  {
   "cell_type": "code",
   "execution_count": null,
   "metadata": {
    "collapsed": true,
    "deletable": false,
    "editable": false,
    "nbgrader": {
     "grade": true,
     "grade_id": "Question 02",
     "locked": true,
     "points": "10",
     "solution": false
    }
   },
   "outputs": [],
   "source": [
    "###\n",
    "### AUTOGRADER TEST - DO NOT REMOVE\n",
    "###\n"
   ]
  },
  {
   "cell_type": "markdown",
   "metadata": {
    "deletable": false,
    "editable": false,
    "nbgrader": {
     "grade": false,
     "locked": true,
     "solution": false
    }
   },
   "source": [
    "## Simple line plots\n",
    "\n",
    "Next, you will create a simple line plot. As you may remember: \n",
    "- X-axis requires quantitative variable\n",
    "- Y-axis values must be numbers and can be set to be interpreted (formatted) as decimal, percent, and currency.\n",
    "- Variables have contiguous values\n",
    "- Familiar/conventional ordering among ordinals"
   ]
  },
  {
   "cell_type": "markdown",
   "metadata": {
    "deletable": false,
    "editable": false,
    "nbgrader": {
     "grade": false,
     "locked": true,
     "solution": false
    }
   },
   "source": [
    "[Back to top](#Index:) \n",
    "\n",
    "### Question 3\n",
    "*10 points*\n",
    "    \n",
    "Plot the functions $f(x) = sin(x)$ and $f(x) = 3 cos(x)$ as a line plot. Make these customizations to the plot:\n",
    "\n",
    "- Title: \"Function plots\". **Hint: Notice the capitalization**.\n",
    "- y-label = \"values\"\n",
    "- x-label = \"angles\"\n",
    "\n",
    "The data is given in the grading cell below. \n",
    "\n",
    "Save your plot as a png with the name \"plot3.png\" in the folder \"results\"."
   ]
  },
  {
   "cell_type": "code",
   "execution_count": null,
   "metadata": {},
   "outputs": [],
   "source": [
    "### GRADED \n",
    "\n",
    "# the x axis: ndarray object of angles between 0 and 2π\n",
    "x = np.arange(0, math.pi*2, 0.05)\n",
    "\n",
    "y_sin = np.sin(x)\n",
    "y_cos = 3 * np.cos(x)\n",
    "plt.plot(x,y_sin,x,y_cos)\n",
    "plt.xlabel(\"angles\")\n",
    "plt.ylabel(\"values\")\n",
    "plt.title('Function plots')\n",
    "plt.savefig(\"results/plot3.png\")"
   ]
  },
  {
   "cell_type": "code",
   "execution_count": null,
   "metadata": {
    "collapsed": true,
    "deletable": false,
    "editable": false,
    "nbgrader": {
     "grade": true,
     "grade_id": "Question 03",
     "locked": true,
     "points": "10",
     "solution": false
    }
   },
   "outputs": [],
   "source": [
    "###\n",
    "### AUTOGRADER TEST - DO NOT REMOVE\n",
    "###\n"
   ]
  },
  {
   "cell_type": "markdown",
   "metadata": {
    "deletable": false,
    "editable": false,
    "nbgrader": {
     "grade": false,
     "locked": true,
     "solution": false
    }
   },
   "source": [
    "## Bar plots\n",
    "\n",
    "Next, you will create standard and multi-series bar plots. Bar graphs are used to compare data between different groups or to track changes over time (similar to a line chart). Multi-series Bar graphs can display multiple groups in the same bar in a stacked visual showing the composition of the bar chart along the Y-axis.\n",
    "\n",
    "Matplotlib provides the **bar()** function for creating bar plots. \n",
    "\n",
    "You can use the **bar()** function parameters below with the axes object:\n",
    "\n",
    "``bar(x, height, width, bottom, align)``"
   ]
  },
  {
   "cell_type": "markdown",
   "metadata": {
    "deletable": false,
    "editable": false,
    "nbgrader": {
     "grade": false,
     "locked": true,
     "solution": false
    }
   },
   "source": [
    "[Back to top](#Index:) \n",
    "\n",
    "### Question 4\n",
    "*5 points*\n",
    "\n",
    "Given the data below, create a bar plot. Make these customizations to the plot:\n",
    "\n",
    "- Title: \"My bar plot\"\n",
    "- X-ticks: Use (y_pos, bars) in `plt.xticks`.\n",
    "- The color of the bars should be changed with the argument `color=(0.2, 0.4, 0.6, 0.6)`\n",
    "\n",
    "Save your plot as a png with the name \"plot4.png\" in the folder \"results\"."
   ]
  },
  {
   "cell_type": "code",
   "execution_count": null,
   "metadata": {},
   "outputs": [],
   "source": [
    "### GRADED \n",
    "\n",
    "# Data\n",
    "height = [3, 12, 5, 18, 45]\n",
    "bars = ('A', 'B', 'C', 'D', 'E')\n",
    "y_pos = np.arange(len(bars))\n",
    "\n",
    "plt.bar(y_pos, height, color=(0.2, 0.4, 0.6, 0.6))\n",
    "plt.title(\"My bar plot\")\n",
    "plt.xticks(y_pos, bars)\n",
    "plt.savefig(\"results/plot4.png\")\n"
   ]
  },
  {
   "cell_type": "code",
   "execution_count": null,
   "metadata": {
    "collapsed": true,
    "deletable": false,
    "editable": false,
    "nbgrader": {
     "grade": true,
     "grade_id": "Question 04",
     "locked": true,
     "points": "5",
     "solution": false
    }
   },
   "outputs": [],
   "source": [
    "###\n",
    "### AUTOGRADER TEST - DO NOT REMOVE\n",
    "###\n"
   ]
  },
  {
   "cell_type": "markdown",
   "metadata": {},
   "source": [
    "[Back to top](#Index:) \n",
    "\n",
    "### Question 5\n",
    "*20 points*\n",
    "\n",
    "Given the data below, create a bar plot. Make these customizations to the plot:\n",
    "\n",
    "- The first bar should be created with the arguments `width=bar_width`, `color='blue'`, `edgecolor='black'`, `yerr=yer1`, `capsize=7`, `label='group1'`.\n",
    "- The second bar should be created with the arguments `width=bar_width`, `color='cyan'`, `edgecolor='black'`, `yerr=yer2`, `capsize=7`,`label='group12'`.\n",
    "- Title: \"Advanced bar plot\".\n",
    "- Y-label = \"height\".\n",
    "- Legend = Show a standard label with the name of the bars.\n",
    "\n",
    "Save your plot as a png with the name \"plot5.png\" in the folder \"results\".\n",
    "\n",
    "**Hint: Make sure to add the `plt.legend()` to show the legend.**\n",
    "\n",
    "The final plot should look like this:\n",
    "\n",
    "![](images/2.png)"
   ]
  },
  {
   "cell_type": "code",
   "execution_count": null,
   "metadata": {
    "nbgrader": {
     "grade": false,
     "grade_id": "Question 05",
     "locked": false,
     "points": "20",
     "solution": false
    }
   },
   "outputs": [],
   "source": [
    "### GRADED \n",
    "\n",
    "# Data\n",
    "\n",
    "# width of the bars\n",
    "bar_width = 0.3\n",
    " \n",
    "# Choose the height of the blue bars\n",
    "bars1 = [10, 9, 2]\n",
    " \n",
    "# Choose the height of the cyan bars\n",
    "bars2 = [10.8, 9.5, 4.5]\n",
    " \n",
    "# Choose the height of the error bars (bars1)\n",
    "yer1 = [0.5, 0.4, 0.5]\n",
    " \n",
    "# Choose the height of the error bars (bars2)\n",
    "yer2 = [1, 0.7, 1]\n",
    "\n",
    "# The x position of bars\n",
    "r1 = np.arange(len(bars1))\n",
    "r2 = [x + bar_width for x in r1]\n",
    "\n",
    "# general layout\n",
    "plt.xticks([r + bar_width for r in range(len(bars1))], ['cond_A', 'cond_B', 'cond_C'])\n",
    "\n",
    "### YOUR SOLUTION HERE\n",
    "plt.bar(r1, bars1, width = bar_width, color = 'blue', edgecolor = 'black', yerr=yer1, capsize=7, label='group1')\n",
    "\n",
    "# Create cyan bars\n",
    "plt.bar(r2, bars2, width = bar_width, color = 'cyan', edgecolor = 'black', yerr=yer2, capsize=7, label='group2')\n",
    "\n",
    "plt.ylabel('height')\n",
    "plt.legend()\n",
    "plt.savefig(\"results/plot5.png\")"
   ]
  },
  {
   "cell_type": "code",
   "execution_count": null,
   "metadata": {
    "collapsed": true,
    "deletable": false,
    "editable": false,
    "nbgrader": {
     "grade": true,
     "grade_id": "Question 05",
     "locked": true,
     "points": "20",
     "solution": false
    }
   },
   "outputs": [],
   "source": [
    "###\n",
    "### AUTOGRADER TEST - DO NOT REMOVE\n",
    "###\n"
   ]
  },
  {
   "cell_type": "markdown",
   "metadata": {
    "deletable": false,
    "editable": false,
    "nbgrader": {
     "grade": false,
     "locked": true,
     "solution": false
    }
   },
   "source": [
    "## Scatter plots\n",
    "Next, you will build a scatter plot using the iris dataset.  A Scatter Plot is used to determine relationships between two different data dimensions. The x-axis is used to measure one dimension (or variable) and the y-axis is used to measure the other. If both variables increase at the same time, they have a positive relationship. If one variable decreases while the other increases, they have a negative relationship. Sometimes the variables don't follow any pattern and have no relationship.\n",
    "\n",
    "Matplotlib provides the **scatter()** function for creating scatter plots. \n",
    "\n",
    "The **scatter()** function parameters below can be used with axes objects:\n",
    "\n",
    "``scatter(x_coords, y_coords, shape, colors, alpha)``"
   ]
  },
  {
   "cell_type": "markdown",
   "metadata": {},
   "source": [
    "[Back to top](#Index:) \n",
    "\n",
    "### Question 6\n",
    "*15 points*\n",
    "    \n",
    "Given the iris dataset create a scatter plot of the petal length (cm) vs the sepal length (cm) with these customizations:\n",
    "\n",
    "- The colors of the species should follow the `colours` and `species` lists from below. \n",
    "- X-label: 'sepal length (cm)'\n",
    "- Y-label: 'petal length (cm)'\n",
    "- Title: 'Iris dataset: petal length vs sepal length'\n",
    "- Legend = Should be displayed with the argument `loc=\"lower right\"`.\n",
    "\n",
    "Save your plot as a png with the name \"plot6.png\" in the folder \"results\".\n",
    "\n",
    "The final plot should look like this:\n",
    "\n",
    "![](images/3.png)"
   ]
  },
  {
   "cell_type": "code",
   "execution_count": null,
   "metadata": {},
   "outputs": [],
   "source": [
    "### GRADED \n",
    "\n",
    "# Data\n",
    "iris = datasets.load_iris()\n",
    "iris_df = pd.DataFrame(iris['data'], columns=iris['feature_names'])\n",
    "iris_df['species'] = iris['target']\n",
    "\n",
    "# Set color and names for legend\n",
    "colours = ['red', 'orange', 'blue']\n",
    "species = ['I. setosa', 'I. versicolor', 'I. virginica']\n",
    "\n",
    "### YOUR SOLUTION HERE\n",
    "for i in range(0, 3):\n",
    "    species_df = iris_df[iris_df['species'] == i]\n",
    "    plt.scatter(\n",
    "        species_df['sepal length (cm)'],\n",
    "        species_df['petal length (cm)'],\n",
    "        color=colours[i],\n",
    "        alpha=0.5,\n",
    "        label=species[i]\n",
    "    )\n",
    "    \n",
    "plt.xlabel('sepal length (cm)')\n",
    "plt.ylabel('petal length (cm)')\n",
    "plt.title('Iris dataset: petal length vs sepal length')\n",
    "plt.legend(loc='lower right')\n",
    "plt.savefig(\"results/plot6.png\")\n"
   ]
  },
  {
   "cell_type": "code",
   "execution_count": null,
   "metadata": {
    "collapsed": true,
    "deletable": false,
    "editable": false,
    "nbgrader": {
     "grade": true,
     "grade_id": "Question 06",
     "locked": true,
     "points": "15",
     "solution": false
    }
   },
   "outputs": [],
   "source": [
    "###\n",
    "### AUTOGRADER TEST - DO NOT REMOVE\n",
    "###\n"
   ]
  },
  {
   "cell_type": "markdown",
   "metadata": {
    "deletable": false,
    "editable": false,
    "nbgrader": {
     "grade": false,
     "locked": true,
     "solution": false
    }
   },
   "source": [
    "## Histograms\n",
    "A histogram is a display of statistical information that uses rectangles to show the frequency of data items in successive numerical intervals of equal size. In the most common form of histogram, the **independent** variable is plotted along the horizontal axis and the **dependent** variable is plotted along the vertical axis.\n",
    "\n",
    "Matplotlib provides the **pyplot.hist()** function for creating histograms plots. \n",
    "\n",
    "You can use the **pyplot.hist()** function parameters below with the axes object:\n",
    "\n",
    "``pyplot.hist(x_values, bins, color, transparency)``"
   ]
  },
  {
   "cell_type": "markdown",
   "metadata": {
    "deletable": false,
    "editable": false,
    "nbgrader": {
     "grade": false,
     "locked": true,
     "solution": false
    }
   },
   "source": [
    "[Back to top](#Index:) \n",
    "\n",
    "### Question 7\n",
    "*10 points*\n",
    "\n",
    "Generate data (using numpy) for a normal distribution centered a x=0 for 100,000 points. Then plot a histogram for the data. You'll find more instructions in the grading cell below.\n",
    "\n",
    "Save your plot as a png with the name \"plot7.png\" in the folder \"results\"."
   ]
  },
  {
   "cell_type": "code",
   "execution_count": null,
   "metadata": {},
   "outputs": [],
   "source": [
    "### GRADED \n",
    "\n",
    "np.random.seed(123)\n",
    "N_points = 100000\n",
    "n_bins = 20\n",
    "\n",
    "### YOUR SOLUTION HERE\n",
    "x = np.random.randn(N_points)\n",
    "plt.hist(x, bins=n_bins)\n",
    "plt.savefig(\"results/plot7.png\")\n"
   ]
  },
  {
   "cell_type": "code",
   "execution_count": null,
   "metadata": {
    "collapsed": true,
    "deletable": false,
    "editable": false,
    "nbgrader": {
     "grade": true,
     "grade_id": "Question 07",
     "locked": true,
     "points": "10",
     "solution": false
    }
   },
   "outputs": [],
   "source": [
    "###\n",
    "### AUTOGRADER TEST - DO NOT REMOVE\n",
    "###\n"
   ]
  },
  {
   "cell_type": "markdown",
   "metadata": {
    "deletable": false,
    "editable": false,
    "nbgrader": {
     "grade": false,
     "locked": true,
     "solution": false
    }
   },
   "source": [
    "[Back to top](#Index:) \n",
    "\n",
    "### Question 8\n",
    "*15 points*\n",
    "\n",
    "Build a histogram with a fit line for the data given below and these customizations:\n",
    "\n",
    "- Title = \"Histogram of IQ: $\\mu=120$, $\\sigma=12$\"\n",
    "- X-label = 'x-axis'\n",
    "- Y-label = 'y-axis'\n",
    "- The fit line should be a blue dotted line. \n",
    "- Use the argument `density=1` when creating the histogram.\n",
    "- Use the argument `facecolor=red` when creating the histogram.\n",
    "- Use the argument `alpha=0.6` when creating the histogram.\n",
    "\n",
    "Save your plot as a png with the name \"plot8.png\" in the folder \"results\".\n",
    "\n",
    "The final plot should look like this:\n",
    "\n",
    "![](images/4.png)\n",
    "\n",
    "**Hint: Use scipy to create the fitted line.**"
   ]
  },
  {
   "cell_type": "code",
   "execution_count": null,
   "metadata": {},
   "outputs": [],
   "source": [
    "### GRADED\n",
    "\n",
    "# Data\n",
    "np.random.seed(123)\n",
    "mu = 120 # mean of distribution\n",
    "sigma = 12 # standard deviation of distribution\n",
    "x = mu + sigma * np.random.randn(10000)\n",
    "num_bins = 20\n",
    "\n",
    "### YOUR SOLUTION HERE\n",
    "n, bins, patches = plt.hist(x, num_bins, density=1, facecolor='red', alpha=0.6)\n",
    "y = sp.norm.pdf(bins, mu, sigma)\n",
    "plt.plot(bins, y, 'b--')\n",
    "plt.xlabel('x-axis')\n",
    "plt.ylabel('y-axis')\n",
    "plt.title(r'Histogram of IQ: $\\mu=120$, $\\sigma=12$')\n",
    "plt.savefig(\"results/plot8.png\")\n"
   ]
  },
  {
   "cell_type": "code",
   "execution_count": null,
   "metadata": {
    "collapsed": true,
    "deletable": false,
    "editable": false,
    "nbgrader": {
     "grade": true,
     "grade_id": "Question 08",
     "locked": true,
     "points": "15",
     "solution": false
    }
   },
   "outputs": [],
   "source": [
    "###\n",
    "### AUTOGRADER TEST - DO NOT REMOVE\n",
    "###\n"
   ]
  },
  {
   "cell_type": "markdown",
   "metadata": {
    "deletable": false,
    "editable": false,
    "nbgrader": {
     "grade": false,
     "locked": true,
     "solution": false
    }
   },
   "source": [
    "## Box plots\n",
    "\n",
    "A box plot which displays a summary of a set of data containing the minimum, first quartile, median, third quartile, and maximum. In a box plot, we draw a box from the first quartile to the third quartile. A vertical line goes through the box at the median. The whiskers go from each quartile to the minimum or maximum.\n",
    "\n",
    "We will use the `boxplot()` function to create a boxplot with Matplotlib. Parameters in the `boxplot()` function determine orientation, colors, labels for the figure. "
   ]
  },
  {
   "cell_type": "markdown",
   "metadata": {
    "deletable": false,
    "editable": false,
    "nbgrader": {
     "grade": false,
     "locked": true,
     "solution": false
    }
   },
   "source": [
    "[Back to top](#Index:) \n",
    "\n",
    "### Question 9\n",
    "*10 points*\n",
    "\n",
    "Using the data below, create a box plot with the these customizations:\n",
    "\n",
    "- Title: \"My box plot\"\n",
    "- X-label: \"data\"\n",
    "- Plot the outliers with the green_diamond dictionary.\n",
    "\n",
    "Save your plot as a png with the name \"plot9.png\" in the folder \"results\"."
   ]
  },
  {
   "cell_type": "code",
   "execution_count": null,
   "metadata": {},
   "outputs": [],
   "source": [
    "### GRADED\n",
    "\n",
    "# Data\n",
    "np.random.seed(123)\n",
    "spread = np.random.rand(50) * 100\n",
    "center = np.ones(25) * 50\n",
    "flier_high = np.random.rand(10) * 100 + 100\n",
    "flier_low = np.random.rand(10) * -100\n",
    "data = np.concatenate((spread, center, flier_high, flier_low))\n",
    "\n",
    "# For outliers\n",
    "green_diamond = dict(markerfacecolor='g', marker='D')\n",
    "\n",
    "### YOUR SOLUTION HERE\n",
    "plt.boxplot(data, flierprops=green_diamond)\n",
    "plt.title(\"My box plot\")\n",
    "plt.xlabel(\"data\")\n",
    "plt.savefig(\"results/plot9.png\")"
   ]
  },
  {
   "cell_type": "code",
   "execution_count": null,
   "metadata": {
    "collapsed": true,
    "deletable": false,
    "editable": false,
    "nbgrader": {
     "grade": true,
     "grade_id": "Question 09",
     "locked": true,
     "points": "10",
     "solution": false
    }
   },
   "outputs": [],
   "source": [
    "###\n",
    "### AUTOGRADER TEST - DO NOT REMOVE\n",
    "###\n"
   ]
  },
  {
   "cell_type": "markdown",
   "metadata": {
    "deletable": false,
    "editable": false,
    "nbgrader": {
     "grade": false,
     "locked": true,
     "solution": false
    }
   },
   "source": [
    "## Pair plots\n",
    "\n",
    "A “pairs plot” is also known as a scatter matrix. A scatter matrix is a collection of scatterplots organized into a grid (or matrix). Each scatterplot shows the relationship between a pair of variables. Plots are just elaborations on this, showing all variables paired with all the other variables. \n",
    "\n",
    "In this assignment, you will create a pairs plot using pandas. "
   ]
  },
  {
   "cell_type": "markdown",
   "metadata": {
    "deletable": false,
    "editable": false,
    "nbgrader": {
     "grade": false,
     "locked": true,
     "solution": false
    }
   },
   "source": [
    "[Back to top](#Index:) \n",
    "\n",
    "### Question 10\n",
    "*10 points*\n",
    "\n",
    "Create a pair plot for the iris dataset using pandas. Use these customizations inside the `scatter_matrix` function:\n",
    "\n",
    "```\n",
    "c = Y\n",
    "figsize = (15,15)\n",
    "marker = 'o'\n",
    "hist_kwds={'bins':20}\n",
    "s = 60\n",
    "alpha = 0.8\n",
    "```\n",
    "\n",
    "Save your plot as a png with the name \"plot10.png\" in the folder \"results\"."
   ]
  },
  {
   "cell_type": "code",
   "execution_count": null,
   "metadata": {},
   "outputs": [],
   "source": [
    "### GRADED\n",
    "\n",
    "# Data\n",
    "iris_dataset = datasets.load_iris()\n",
    "X = iris_dataset.data\n",
    "Y = iris_dataset.target\n",
    "\n",
    "iris_dataframe = pd.DataFrame(X, columns=iris_dataset.feature_names)\n",
    "\n",
    "### YOUR SOLUTION HERE\n",
    "pd.plotting.scatter_matrix(iris_dataframe, c=Y, figsize=(15, 15), marker='o',hist_kwds={'bins': 20}, s=60, alpha=.8)\n",
    "plt.savefig(\"results/plot10.png\")\n"
   ]
  },
  {
   "cell_type": "code",
   "execution_count": null,
   "metadata": {
    "collapsed": true,
    "deletable": false,
    "editable": false,
    "nbgrader": {
     "grade": true,
     "grade_id": "Question 10",
     "locked": true,
     "points": "10",
     "solution": false
    }
   },
   "outputs": [],
   "source": [
    "###\n",
    "### AUTOGRADER TEST - DO NOT REMOVE\n",
    "###\n"
   ]
  },
  {
   "cell_type": "markdown",
   "metadata": {
    "deletable": false,
    "editable": false,
    "nbgrader": {
     "grade": false,
     "locked": true,
     "solution": false
    }
   },
   "source": [
    "## Time series\n",
    "A time series plot is a graph where some measure of time is the unit on the x-axis. In fact, we label the x-axis the time-axis. The y-axis is for the variable that is being measured. Data points are plotted and generally connected with straight lines, which allows for the analysis of the graph generated. \n",
    "\n",
    "\n",
    "A Time Series plot in matplotlib is, in essence, a special case of a line plot. That is, we are plotting x and y points connected by a line, however, the x coordinates represent ``time``."
   ]
  },
  {
   "cell_type": "markdown",
   "metadata": {
    "deletable": false,
    "editable": false,
    "nbgrader": {
     "grade": false,
     "locked": true,
     "solution": false
    }
   },
   "source": [
    "[Back to top](#Index:) \n",
    "\n",
    "### Question 11\n",
    "*5 points*\n",
    "    \n",
    "For the time series data given below, create a lineplot. Change the title of the plot to 'My time series'. \n",
    "\n",
    "Save your plot as a png with the name \"plot11.png\" in the folder \"results\"."
   ]
  },
  {
   "cell_type": "code",
   "execution_count": null,
   "metadata": {},
   "outputs": [],
   "source": [
    "### GRADED\n",
    "\n",
    "# Data\n",
    "df = pd.read_csv('https://github.com/selva86/datasets/raw/master/AirPassengers.csv')\n",
    "dates = pd.DatetimeIndex([parse(d).strftime('%Y-%m-01') for d in df['date']])\n",
    "df.set_index(dates, inplace=True)\n",
    "\n",
    "# convert the dataframe into a Series, there is only one column\n",
    "ts = df['value']\n",
    "\n",
    "ts.plot()\n",
    "plt.title(\"My time series\")\n",
    "plt.savefig(\"results/plot11.png\")\n"
   ]
  },
  {
   "cell_type": "code",
   "execution_count": null,
   "metadata": {
    "collapsed": true,
    "deletable": false,
    "editable": false,
    "nbgrader": {
     "grade": true,
     "grade_id": "Question 11",
     "locked": true,
     "points": "5",
     "solution": false
    }
   },
   "outputs": [],
   "source": [
    "###\n",
    "### AUTOGRADER TEST - DO NOT REMOVE\n",
    "###\n"
   ]
  },
  {
   "cell_type": "markdown",
   "metadata": {
    "deletable": false,
    "editable": false,
    "nbgrader": {
     "grade": false,
     "locked": true,
     "solution": false
    }
   },
   "source": [
    "[Back to top](#Index:) \n",
    "\n",
    "### Question 12\n",
    "*15 points*\n",
    "\n",
    "Prepare the data for the dataset given below. Then plot all of the data with lineplots. Set the title of the plot as \"Seasonal Plot\". Set the size of the plot to (16,12) and use a dpi of 80. When creating the plot add a text using the code:\n",
    "\n",
    "```python\n",
    "plt.text(df.loc[df.year==y, :].shape[0]-.9, df.loc[df.year==y, 'value'][-1:].values[0], y, fontsize=12)\n",
    "```\n",
    "\n",
    "\n",
    "Save your plot as a png with the name \"plot12.png\" in the folder \"results\".\n",
    "\n",
    "The final plot should look like this:\n",
    "\n",
    "![](images/5.png)\n",
    "\n",
    "**Hint: Extract the year and month from the data and only use unique years.**"
   ]
  },
  {
   "cell_type": "code",
   "execution_count": null,
   "metadata": {},
   "outputs": [],
   "source": [
    "### GRADED\n",
    "\n",
    "# YOUR SOLUTION HERE\n",
    "# Data\n",
    "df = pd.read_csv('https://raw.githubusercontent.com/selva86/datasets/master/a10.csv', parse_dates=['date'], index_col='date')\n",
    "df.reset_index(inplace=True)\n",
    "\n",
    "df['year'] = [d.year for d in df.date]\n",
    "df['month'] = [d.strftime('%b') for d in df.date]\n",
    "years = df['year'].unique()\n",
    "\n",
    "plt.figure(figsize=(16,12), dpi=80)\n",
    "\n",
    "for i, y in enumerate(years):\n",
    "    if i > 0:\n",
    "        plt.plot('month', 'value', data=df.loc[df.year==y, :], label=y)\n",
    "        plt.text(df.loc[df.year==y, :].shape[0]-.9, df.loc[df.year==y, 'value'][-1:].values[0], y, fontsize=12)\n",
    "        \n",
    "plt.title(\"Season plot\")\n",
    "plt.savefig(\"results/plot12.png\")"
   ]
  },
  {
   "cell_type": "code",
   "execution_count": null,
   "metadata": {
    "collapsed": true,
    "deletable": false,
    "editable": false,
    "nbgrader": {
     "grade": true,
     "grade_id": "Question 12",
     "locked": true,
     "points": "15",
     "solution": false
    }
   },
   "outputs": [],
   "source": [
    "###\n",
    "### AUTOGRADER TEST - DO NOT REMOVE\n",
    "###\n"
   ]
  }
 ],
 "metadata": {
  "kernelspec": {
   "display_name": "Python 3",
   "language": "python",
   "name": "python3"
  },
  "language_info": {
   "codemirror_mode": {
    "name": "ipython",
    "version": 3
   },
   "file_extension": ".py",
   "mimetype": "text/x-python",
   "name": "python",
   "nbconvert_exporter": "python",
   "pygments_lexer": "ipython3",
   "version": "3.7.6"
  }
 },
 "nbformat": 4,
 "nbformat_minor": 4
}
