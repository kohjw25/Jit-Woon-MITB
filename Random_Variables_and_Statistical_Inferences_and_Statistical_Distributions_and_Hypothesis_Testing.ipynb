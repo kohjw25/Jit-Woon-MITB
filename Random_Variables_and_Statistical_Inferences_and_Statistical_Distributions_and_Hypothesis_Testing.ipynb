{
 "cells": [
  {
   "cell_type": "markdown",
   "metadata": {
    "deletable": false,
    "editable": false,
    "nbgrader": {
     "grade": false,
     "locked": true,
     "solution": false
    }
   },
   "source": [
    "# Module 8 and 9 - Random Variables and Statistical Inferences and Statistical Distributions and Hypothesis Testing\n",
    "\n",
    "**_Author: Jessica Cervi_**\n",
    "\n",
    "**Expected time = 2.5 hours**\n",
    "\n",
    "**Total points = 95 points**"
   ]
  },
  {
   "cell_type": "markdown",
   "metadata": {
    "deletable": false,
    "editable": false,
    "nbgrader": {
     "grade": false,
     "locked": true,
     "solution": false
    }
   },
   "source": [
    "\n",
    "## Assignment Overview\n",
    "\n",
    "\n",
    "In this assignment you will apply the probability and statistical distributions you learned in Modules 8 and 9 in Python. You will generate data to determine probability of some events and perform appropriate simple sampling. You will be introduced  to new discrete and continuous distributions and review the concept of confidence intervals.\n",
    "\n",
    "\n",
    "This assignment is designed to build your familiarity and comfort coding in Python while also helping you review key topics from each module. As you progress through the assignment, answers will get increasingly complex. It is important that you adopt a data scientist's mindset when completing this assignment. Remember to run your code from each cell before submitting your assignment. Running your code beforehand will notify you of errors and give you a chance to fix them before submitting. You should view your Vocareum submission as if you are delivering a final project to your manager or client.\n",
    "\n",
    "**Vocareum Tips**\n",
    "   - Do not add arguments or options to functions unless you are specifically asked to. This will cause an error in Vocareum.\n",
    "   - Do not use a library unless you are expicitly asked to in the question.\n",
    "\n",
    "\n",
    "### Learning Objectives\n",
    "\n",
    "- Use fundamental concepts of probability theory to examine random variables and quantify the probability of a given outcome.  \n",
    "- Explain the difference between standard deviation and variance when analyzing a dataset and be able to draw a random sample. \n",
    "- Explain common statistical distributions such as the Gamma distribution, t-distribution, and exponential distribution. \n",
    "- Compute the confidence intervals to test a model. "
   ]
  },
  {
   "cell_type": "markdown",
   "metadata": {
    "deletable": false,
    "editable": false,
    "nbgrader": {
     "grade": false,
     "locked": true,
     "solution": false
    }
   },
   "source": [
    "\n",
    "## Index:\n",
    "\n",
    "#### Module 8: Random Variables and Statistical Inferences\n",
    "\n",
    "- [Question 1](#Question-1)\n",
    "- [Question 2](#Question-2)\n",
    "- [Question 3](#Question-3)\n",
    "- [Question 4](#Question-4)\n",
    "- [Question 5](#Question-5)\n",
    "- [Question 6](#Question-6)\n",
    "- [Question 7](#Question-7)\n",
    "\n",
    "#### Module 9: Statistical Distributions and Hypothesis Testing\n",
    "\n",
    "- [Question 8](#Question-8)\n",
    "- [Question 9](#Question-9)\n",
    "- [Question 10](#Question-10)\n",
    "- [Question 11](#Question-11)\n",
    "- [Question 12](#Question-12)\n",
    "\n",
    "\n"
   ]
  },
  {
   "cell_type": "markdown",
   "metadata": {
    "deletable": false,
    "editable": false,
    "nbgrader": {
     "grade": false,
     "locked": true,
     "solution": false
    }
   },
   "source": [
    "Begin by importing packages needed for this assignment:"
   ]
  },
  {
   "cell_type": "code",
   "execution_count": 1,
   "metadata": {
    "deletable": false,
    "editable": false,
    "nbgrader": {
     "grade": false,
     "locked": true,
     "solution": false
    }
   },
   "outputs": [],
   "source": [
    "#Let's start by importing these packages\n",
    "import pandas as pd\n",
    "import math\n",
    "import random\n",
    "import matplotlib.pyplot as plt\n",
    "import numpy as np\n",
    "import seaborn as sns"
   ]
  },
  {
   "cell_type": "markdown",
   "metadata": {
    "deletable": false,
    "editable": false,
    "nbgrader": {
     "grade": false,
     "locked": true,
     "solution": false
    }
   },
   "source": [
    "## Module 8: Random Variables and Statistical Inferences\n",
    "\n",
    "In the first part of this assignment, we will be testing your knowledge of the topics covered in Module 8, such as probability theory, sampling, and the probability distribution function."
   ]
  },
  {
   "cell_type": "markdown",
   "metadata": {
    "deletable": false,
    "editable": false,
    "nbgrader": {
     "grade": false,
     "locked": true,
     "solution": false
    }
   },
   "source": [
    "## Probability\n",
    "We will begin this assignment with a review of the concept of probability.\n",
    "Probability seeks to answer the question, “What is the chance of an event happening?” An event is some outcome of interest. To calculate the chance of an event happening, we also need to consider all the other events that can occur. Some common examples of basic probability are the study of the outcome of tossing a coin or of rolling a die.\n",
    "\n",
    "\n",
    "Below, we have defined a function `roll_one_die` that simulates the probability of getting a number greater than four when rolling a fair six-faced die."
   ]
  },
  {
   "cell_type": "code",
   "execution_count": 3,
   "metadata": {
    "deletable": false,
    "editable": false,
    "nbgrader": {
     "grade": false,
     "locked": true,
     "solution": false
    }
   },
   "outputs": [
    {
     "data": {
      "text/plain": [
       "0.32876"
      ]
     },
     "execution_count": 3,
     "metadata": {},
     "output_type": "execute_result"
    }
   ],
   "source": [
    "random.seed(30)\n",
    "\n",
    "def roll_one_die(n_simulations):\n",
    "    count = 0\n",
    "    for i in range(n_simulations):\n",
    "        outcome = random.randint(1,6)\n",
    "        if outcome > 4:\n",
    "            count +=1\n",
    "    probability = count/n_simulations\n",
    "    return probability\n",
    "        \n",
    "roll_one_die(100000)"
   ]
  },
  {
   "cell_type": "markdown",
   "metadata": {
    "deletable": false,
    "editable": false,
    "nbgrader": {
     "grade": false,
     "locked": true,
     "solution": false
    }
   },
   "source": [
    "[Back to top](#Index:) \n",
    "\n",
    "### Question 1\n",
    "\n",
    "**10 points**\n",
    "\n",
    "Define a function `roll_two_dice` that simulates the probability of getting a total score that is equal to or greater than 7 when rolling two dice.\n",
    "\n",
    "Your function should take, as input, the *total* number of throws and should return the probability. Use the function `random.seed()` to set the random seed equal to 5.\n",
    "\n",
    "Assign the probability of getting a score greater than 7 after 10 throws to `ans1`"
   ]
  },
  {
   "cell_type": "code",
   "execution_count": 6,
   "metadata": {},
   "outputs": [
    {
     "data": {
      "text/plain": [
       "0.4"
      ]
     },
     "execution_count": 6,
     "metadata": {},
     "output_type": "execute_result"
    }
   ],
   "source": [
    "### YOUR SOLUTION HERE\n",
    "def roll_two_dice(n_simulations):\n",
    "    count = 0\n",
    "    for i in range(n_simulations):\n",
    "        outcome_1 = random.randint(1,6)\n",
    "        outcome_2 = random.randint(1,6)\n",
    "        score = outcome_1+outcome_2\n",
    "        if (score) > 7:\n",
    "            count += 1\n",
    "    probability = count/n_simulations\n",
    "    return probability\n",
    "roll_two_dice(10)"
   ]
  },
  {
   "cell_type": "code",
   "execution_count": 11,
   "metadata": {
    "deletable": false,
    "editable": false,
    "nbgrader": {
     "grade": true,
     "grade_id": "Question 01",
     "locked": true,
     "points": "10",
     "solution": false
    }
   },
   "outputs": [
    {
     "name": "stdout",
     "output_type": "stream",
     "text": [
      "Correct!\n"
     ]
    }
   ],
   "source": [
    "###\n",
    "### AUTOGRADER TEST - DO NOT REMOVE\n",
    "###\n"
   ]
  },
  {
   "cell_type": "markdown",
   "metadata": {
    "deletable": false,
    "editable": false,
    "nbgrader": {
     "grade": false,
     "locked": true,
     "solution": false
    }
   },
   "source": [
    "## The Gamma distribution\n",
    "\n",
    "The Gamma distribution is a two-parameter family of continuous probability distributions, like the normal distribution or the Chi-squared distribution you have seen in the module 8 videos.\n",
    "\n",
    "In this section, we will explore some of the features of the Gamma distribution.\n",
    "\n",
    "[Back to top](#Index:) \n",
    "\n",
    "### Question 2\n",
    "\n",
    "**10 points**\n",
    "\n",
    "Import the function `gamma` from the `scipy.stats` package. \n",
    "\n",
    "Set the parameter `a =1.99`. Use the `gamma.stats` function to compute the mean and the variance of a gamma distrution with `a =1.99`. \n",
    "\n",
    "**HINT:** For this exercise, set the argument `moments` equal to `mv`. You can find more information about this function [here](https://docs.scipy.org/doc/scipy/reference/generated/scipy.stats.gamma.html).\n",
    "\n",
    "Assign the value of the mean to `ans2_a`and the value of the variance to `ans2_b`.\n",
    "\n",
    "Note that Question 2 and Question 3 are connected."
   ]
  },
  {
   "cell_type": "code",
   "execution_count": 9,
   "metadata": {},
   "outputs": [],
   "source": [
    "### YOUR SOLUTION HERE\n",
    "from scipy.stats import gamma\n",
    "a=1.99\n",
    "ans2_a, ans2_b = gamma.stats(a, moments='mv')"
   ]
  },
  {
   "cell_type": "code",
   "execution_count": 10,
   "metadata": {
    "deletable": false,
    "editable": false,
    "nbgrader": {
     "grade": true,
     "grade_id": "Question 02",
     "locked": true,
     "points": "10",
     "solution": false
    }
   },
   "outputs": [],
   "source": [
    "###\n",
    "### AUTOGRADER TEST - DO NOT REMOVE\n",
    "###\n"
   ]
  },
  {
   "cell_type": "markdown",
   "metadata": {
    "deletable": false,
    "editable": false,
    "nbgrader": {
     "grade": false,
     "locked": true,
     "solution": false
    }
   },
   "source": [
    "[Back to top](#Index:) \n",
    "\n",
    "### Question 3\n",
    "\n",
    "**10 points**\n",
    "\n",
    "Generate an array labeled `x` with 200 equally spaced values on the interval [0,100]. Generate data `y` that follows a gamma probability distribution function over `x`  by using the function `gamma.pdf()` from `scipy.stats` with the arguments `a =5`. \n",
    "\n",
    "Finally, plot `x` and `y`. Save your figure as `plot2.png` in the `results` folder.\n",
    "\n"
   ]
  },
  {
   "cell_type": "code",
   "execution_count": 12,
   "metadata": {},
   "outputs": [
    {
     "data": {
      "text/plain": [
       "[<matplotlib.lines.Line2D at 0x220a360b848>]"
      ]
     },
     "execution_count": 12,
     "metadata": {},
     "output_type": "execute_result"
    },
    {
     "data": {
      "image/png": "[encoded data removed]",
      "text/plain": [
       "<Figure size 432x288 with 1 Axes>"
      ]
     },
     "metadata": {
      "needs_background": "light"
     },
     "output_type": "display_data"
    }
   ],
   "source": [
    "### YOUR SOLUTION HERE\n",
    "x = np.linspace (0, 100, 200)\n",
    "y = gamma.pdf(x, a=5)\n",
    "plt.plot(x, y)\n",
    "plt.savefig(\"results/plot2.png\")\n"
   ]
  },
  {
   "cell_type": "code",
   "execution_count": 15,
   "metadata": {
    "deletable": false,
    "editable": false,
    "nbgrader": {
     "grade": true,
     "grade_id": "Question 03",
     "locked": true,
     "points": "10",
     "solution": false
    }
   },
   "outputs": [
    {
     "name": "stdout",
     "output_type": "stream",
     "text": [
      "Correct!\n"
     ]
    },
    {
     "data": {
      "image/png": "[encoded data removed]",
      "text/plain": [
       "<Figure size 432x288 with 1 Axes>"
      ]
     },
     "metadata": {
      "needs_background": "light"
     },
     "output_type": "display_data"
    }
   ],
   "source": [
    "###\n",
    "### AUTOGRADER TEST - DO NOT REMOVE\n",
    "###\n"
   ]
  },
  {
   "cell_type": "markdown",
   "metadata": {
    "deletable": false,
    "editable": false,
    "nbgrader": {
     "grade": false,
     "locked": true,
     "solution": false
    }
   },
   "source": [
    "## Sampling\n",
    "\n",
    "Sampling can be performed in Python using the built-in `sample()`  function of the `random` module. This function returns partcular items chosen from the sequence like a list, tuple, string or set.\n",
    "\n",
    "[Back to top](#Index:) \n",
    "\n",
    "### Question 4\n",
    "\n",
    "**5 points**\n",
    "\n",
    "Define a list, `list4`, with entries 2,4,6,8,10,12,14,16. Set a random seed equal to 8.\n",
    "\n",
    "Use the function `sample()` to choose three items from `list4`. Assign the result to the list `ans4`."
   ]
  },
  {
   "cell_type": "code",
   "execution_count": 13,
   "metadata": {},
   "outputs": [
    {
     "data": {
      "text/plain": [
       "[8, 6, 16]"
      ]
     },
     "execution_count": 13,
     "metadata": {},
     "output_type": "execute_result"
    }
   ],
   "source": [
    "### YOUR SOLUTION HERE\n",
    "random.seed(8)\n",
    "list4 = [2,4,6,8,10,12,14,16]\n",
    "random.sample(list4,k=3)\n",
    "\n"
   ]
  },
  {
   "cell_type": "code",
   "execution_count": null,
   "metadata": {
    "collapsed": true,
    "deletable": false,
    "editable": false,
    "nbgrader": {
     "grade": true,
     "grade_id": "Question 04",
     "locked": true,
     "points": "4",
     "solution": false
    }
   },
   "outputs": [],
   "source": [
    "##### BEGIN HIDDEN TESTS\n",
    "random.seed(8)\n",
    "list4_ = [2,4,6,8,10,12,14,16]\n",
    "ans4_ = random.sample(list4,k=3)\n",
    "#\n",
    "#\n",
    "#\n",
    "assert list4 == list4_, \"Make sure you have defined the list correctly.\"\n",
    "assert ans4 == ans4_, \"Make sure you have used the function sample() correctly\"\n",
    "print('Correct!')\n",
    "### END HIDDEN TESTS"
   ]
  },
  {
   "cell_type": "markdown",
   "metadata": {
    "deletable": false,
    "editable": false,
    "nbgrader": {
     "grade": false,
     "locked": true,
     "solution": false
    }
   },
   "source": [
    "## t-distribution\n",
    "\n",
    "The t-distribution is a type of probability distribution that is similar to the normal distribution with a bell shape, but it has heavier tails. T-distributions are more likely to have extreme values than normal distributions, hence the fatter tails.\n",
    "\n",
    "[Back to top](#Index:) \n",
    "\n",
    "### Question 5\n",
    "\n",
    "**10 points**\n",
    "\n",
    "Import `t` from `scipy.stats` and generate a t-distribution with 34 degrees of freedom. Generate 2000 equally spaced values on the interval [-2,2] and label it  `t-values`. Plot the probability distribution function of your t-distribution with t-values and save you figure  as `plot5.png` into the folder `results`. \n",
    "\n",
    "Do not specify any other parameter when producing the plot.\n",
    "\n",
    "**Questions 6 and 7 depend on Question 5**\n"
   ]
  },
  {
   "cell_type": "code",
   "execution_count": 14,
   "metadata": {},
   "outputs": [
    {
     "data": {
      "text/plain": [
       "[<matplotlib.lines.Line2D at 0x220a367f988>]"
      ]
     },
     "execution_count": 14,
     "metadata": {},
     "output_type": "execute_result"
    },
    {
     "data": {
      "image/png": "[encoded data removed]",
      "text/plain": [
       "<Figure size 432x288 with 1 Axes>"
      ]
     },
     "metadata": {
      "needs_background": "light"
     },
     "output_type": "display_data"
    }
   ],
   "source": [
    "### YOUR SOLUTION HERE\n",
    "from scipy.stats import t\n",
    "t_dist =t(34)\n",
    "t_values = np.linspace(-2, 2, 2000)\n",
    "plt.plot(t_values, t_dist.pdf(t_values))\n",
    "\n"
   ]
  },
  {
   "cell_type": "code",
   "execution_count": 18,
   "metadata": {
    "deletable": false,
    "editable": false,
    "nbgrader": {
     "grade": true,
     "grade_id": "Question 05",
     "locked": true,
     "points": "5",
     "solution": false
    }
   },
   "outputs": [
    {
     "name": "stdout",
     "output_type": "stream",
     "text": [
      "Correct!\n"
     ]
    },
    {
     "data": {
      "image/png": "[encoded data removed]",
      "text/plain": [
       "<Figure size 432x288 with 1 Axes>"
      ]
     },
     "metadata": {
      "needs_background": "light"
     },
     "output_type": "display_data"
    }
   ],
   "source": [
    "###\n",
    "### AUTOGRADER TEST - DO NOT REMOVE\n",
    "###\n"
   ]
  },
  {
   "cell_type": "markdown",
   "metadata": {
    "deletable": false,
    "editable": false,
    "nbgrader": {
     "grade": false,
     "locked": true,
     "solution": false
    }
   },
   "source": [
    "[Back to top](#Index:) \n",
    "\n",
    "### Question 6\n",
    "\n",
    "**5 points**\n",
    "\n",
    "Based on the data generated in Question 5, what is the area of the probability distribution function at and to the left of 0.8?\n",
    "\n",
    "**HINT:** Use the function `.cdf()`.\n",
    "\n",
    "Assign your result to `ans6`."
   ]
  },
  {
   "cell_type": "code",
   "execution_count": 15,
   "metadata": {},
   "outputs": [
    {
     "data": {
      "text/plain": [
       "0.7853674129727315"
      ]
     },
     "execution_count": 15,
     "metadata": {},
     "output_type": "execute_result"
    }
   ],
   "source": [
    "### YOUR SOLUTION HERE\n",
    "t_dist.cdf(0.8)\n",
    " \n",
    "###\n",
    "### YOUR CODE HERE\n",
    "###\n"
   ]
  },
  {
   "cell_type": "code",
   "execution_count": 15,
   "metadata": {
    "deletable": false,
    "editable": false,
    "nbgrader": {
     "grade": true,
     "grade_id": "Question 06",
     "locked": true,
     "points": "5",
     "solution": false
    }
   },
   "outputs": [
    {
     "name": "stdout",
     "output_type": "stream",
     "text": [
      "Correct!\n"
     ]
    }
   ],
   "source": [
    "###\n",
    "### AUTOGRADER TEST - DO NOT REMOVE\n",
    "###\n"
   ]
  },
  {
   "cell_type": "markdown",
   "metadata": {
    "deletable": false,
    "editable": false,
    "nbgrader": {
     "grade": false,
     "locked": true,
     "solution": false
    }
   },
   "source": [
    "[Back to top](#Index:) \n",
    "\n",
    "### Question 7\n",
    "\n",
    "**5 points**\n",
    "\n",
    "Based on the data generated in Question 5, what is the probability that x is equal to -0.4?\n",
    "\n",
    "**HINT:** Use the function `.pdf()`.\n",
    "\n",
    "Assign your result to `ans7`."
   ]
  },
  {
   "cell_type": "code",
   "execution_count": 16,
   "metadata": {},
   "outputs": [
    {
     "data": {
      "text/plain": [
       "0.3647838871734987"
      ]
     },
     "execution_count": 16,
     "metadata": {},
     "output_type": "execute_result"
    }
   ],
   "source": [
    "### YOUR SOLUTION HERE\n",
    "t_dist.pdf(-0.4)\n",
    " \n",
    "###\n",
    "### YOUR CODE HERE\n",
    "###\n"
   ]
  },
  {
   "cell_type": "code",
   "execution_count": 20,
   "metadata": {
    "deletable": false,
    "editable": false,
    "nbgrader": {
     "grade": true,
     "grade_id": "Question 07",
     "locked": true,
     "points": "5",
     "solution": false
    }
   },
   "outputs": [
    {
     "name": "stdout",
     "output_type": "stream",
     "text": [
      "Correct!\n"
     ]
    }
   ],
   "source": [
    "###\n",
    "### AUTOGRADER TEST - DO NOT REMOVE\n",
    "###\n"
   ]
  },
  {
   "cell_type": "markdown",
   "metadata": {
    "deletable": false,
    "editable": false,
    "nbgrader": {
     "grade": false,
     "locked": true,
     "solution": false
    }
   },
   "source": [
    "## Module 9: Statistical Distributions and Hypothesis Testing\n",
    "\n",
    "\n",
    "In the second part of this assignment we will review some of the concepts that you have learned in Module 9. We will work with discrete and continuous distributions and learn a convenient way to compute confidence intervals and other statistical information for a dataframe.\n"
   ]
  },
  {
   "cell_type": "markdown",
   "metadata": {
    "deletable": false,
    "editable": false,
    "nbgrader": {
     "grade": false,
     "locked": true,
     "solution": false
    }
   },
   "source": [
    "## Discrete distributions\n",
    "\n",
    "[Back to top](#Index:) \n",
    "\n",
    "### Question 8\n",
    "\n",
    "**5 points**\n",
    "\n",
    "Which one(s) of the option below define a discrete functions?\n",
    "    \n",
    "- a. Chi-squared distribution\n",
    "- b. Bernouilli distribution\n",
    "- c. Binomial distribution\n",
    "- d. Gaussian distribution\n",
    "\n",
    "Assign the character(s) corresponding to your answer as strings to the list `ans8`."
   ]
  },
  {
   "cell_type": "code",
   "execution_count": 17,
   "metadata": {},
   "outputs": [],
   "source": [
    "### YOUR SOLUTION HERE\n",
    "ans8 = ['b','c']\n",
    " \n",
    "###\n",
    "### YOUR CODE HERE\n",
    "###\n"
   ]
  },
  {
   "cell_type": "code",
   "execution_count": 27,
   "metadata": {
    "deletable": false,
    "editable": false,
    "nbgrader": {
     "grade": true,
     "grade_id": "Question 08",
     "locked": true,
     "points": "5",
     "solution": false
    }
   },
   "outputs": [
    {
     "name": "stdout",
     "output_type": "stream",
     "text": [
      "Correct!\n"
     ]
    }
   ],
   "source": [
    "###\n",
    "### AUTOGRADER TEST - DO NOT REMOVE\n",
    "###\n"
   ]
  },
  {
   "cell_type": "markdown",
   "metadata": {
    "deletable": false,
    "editable": false,
    "nbgrader": {
     "grade": false,
     "locked": true,
     "solution": false
    }
   },
   "source": [
    "A distribution where only two outcomes are possible (such as success or failure, gain or loss) and where the probability of success and failure is same for all the trials is called a **Binomial Distribution**. \n",
    "\n",
    "In the code cell below, we have generated a plotted a binomial distribution."
   ]
  },
  {
   "cell_type": "code",
   "execution_count": 19,
   "metadata": {
    "deletable": false,
    "editable": false,
    "nbgrader": {
     "grade": false,
     "locked": true,
     "solution": false
    }
   },
   "outputs": [
    {
     "data": {
      "text/plain": [
       "[Text(0, 0.5, 'Frequency'), Text(0.5, 0, 'Binomial Distribution')]"
      ]
     },
     "execution_count": 19,
     "metadata": {},
     "output_type": "execute_result"
    },
    {
     "data": {
      "image/png": "[encoded data removed]",
      "text/plain": [
       "<Figure size 432x288 with 1 Axes>"
      ]
     },
     "metadata": {
      "needs_background": "light"
     },
     "output_type": "display_data"
    }
   ],
   "source": [
    "from scipy.stats import binom\n",
    "data_binom = binom.rvs(n=10,p=0.8,size=10000, random_state = 10)\n",
    "ax = sns.distplot(data_binom,kde=False,color='green', hist_kws={\"linewidth\": 30,'alpha':1})\n",
    "ax.set(xlabel='Binomial Distribution', ylabel='Frequency')"
   ]
  },
  {
   "cell_type": "markdown",
   "metadata": {
    "deletable": false,
    "editable": false,
    "nbgrader": {
     "grade": false,
     "locked": true,
     "solution": false
    }
   },
   "source": [
    "[Back to top](#Index:) \n",
    "\n",
    "### Question 9\n",
    "\n",
    "**5 points**\n",
    "\n",
    "Observe tbe code above and compute the mean of the binomial distribution defined above. Assign the result to `ans9`."
   ]
  },
  {
   "cell_type": "code",
   "execution_count": 20,
   "metadata": {},
   "outputs": [
    {
     "data": {
      "text/plain": [
       "8.0385"
      ]
     },
     "execution_count": 20,
     "metadata": {},
     "output_type": "execute_result"
    }
   ],
   "source": [
    "### YOUR SOLUTION HERE\n",
    "data_binom.mean()\n",
    " \n",
    "###\n",
    "### YOUR CODE HERE\n",
    "###\n"
   ]
  },
  {
   "cell_type": "code",
   "execution_count": 30,
   "metadata": {
    "deletable": false,
    "editable": false,
    "nbgrader": {
     "grade": true,
     "grade_id": "Question 09",
     "locked": true,
     "points": "5",
     "solution": false
    }
   },
   "outputs": [
    {
     "name": "stdout",
     "output_type": "stream",
     "text": [
      "Correct!\n"
     ]
    }
   ],
   "source": [
    "###\n",
    "### AUTOGRADER TEST - DO NOT REMOVE\n",
    "###\n"
   ]
  },
  {
   "cell_type": "markdown",
   "metadata": {
    "deletable": false,
    "editable": false,
    "nbgrader": {
     "grade": false,
     "locked": true,
     "solution": false
    }
   },
   "source": [
    "## Continuous distributions\n",
    "\n",
    "Next, we'll examine the probability distributions of a continuous random variables.\n",
    "\n",
    "For example, the exponential distribution is a continuous distribution that describes the time between events in a Poisson point process, i.e., a process in which events occur continuously and independently at a constant average rate."
   ]
  },
  {
   "cell_type": "markdown",
   "metadata": {
    "deletable": false,
    "editable": false,
    "nbgrader": {
     "grade": false,
     "locked": true,
     "solution": false
    }
   },
   "source": [
    "[Back to top](#Index:) \n",
    "\n",
    "### Question 10\n",
    "\n",
    "**10 points**\n",
    "\n",
    "Following the example above where we have plotted a binomial distribution, plot an exponential distribution with `scale=1`, `loc=0`, `size=10000`, and `random_state=7`. Use the function `distplot()` to plot the data. Do not specify any parameter when using the function `distplot()` and do not set any axis labels. Use the method .figure.savefig() to save your figure as `plot10.png`in the `results` folder.\n",
    "\n",
    "**HINT:** Import the function `expon()` from scipy.stats.\n",
    "\n",
    "What is the mean of this distribution? Assign the result to `ans10`."
   ]
  },
  {
   "cell_type": "code",
   "execution_count": 21,
   "metadata": {},
   "outputs": [
    {
     "data": {
      "text/plain": [
       "0.9864912047436666"
      ]
     },
     "execution_count": 21,
     "metadata": {},
     "output_type": "execute_result"
    },
    {
     "data": {
      "image/png": "[encoded data removed]",
      "text/plain": [
       "<Figure size 432x288 with 1 Axes>"
      ]
     },
     "metadata": {
      "needs_background": "light"
     },
     "output_type": "display_data"
    }
   ],
   "source": [
    " ### YOUR SOLUTION HERE\n",
    "from scipy.stats import expon\n",
    "data_exp = expon.rvs(scale=1,loc=0,size=1000, random_state = 7)\n",
    "ax = sns.distplot(data_exp)\n",
    "data_exp.mean()\n",
    "\n"
   ]
  },
  {
   "cell_type": "code",
   "execution_count": 32,
   "metadata": {
    "deletable": false,
    "editable": false,
    "nbgrader": {
     "grade": true,
     "grade_id": "Question 10",
     "locked": true,
     "points": "10",
     "solution": false
    }
   },
   "outputs": [
    {
     "name": "stdout",
     "output_type": "stream",
     "text": [
      "Correct!\n"
     ]
    },
    {
     "data": {
      "image/png": "[encoded data removed]",
      "text/plain": [
       "<Figure size 432x288 with 1 Axes>"
      ]
     },
     "metadata": {
      "needs_background": "light"
     },
     "output_type": "display_data"
    }
   ],
   "source": [
    "###\n",
    "### AUTOGRADER TEST - DO NOT REMOVE\n",
    "###\n"
   ]
  },
  {
   "cell_type": "markdown",
   "metadata": {
    "deletable": false,
    "editable": false,
    "nbgrader": {
     "grade": false,
     "locked": true,
     "solution": false
    }
   },
   "source": [
    "## Confidence intervals\n",
    "\n",
    "A confidence interval is an interval that contains the unknown parameter (such as the population mean $\\mu$) with certain degree of confidence.\n",
    "\n",
    "In this section, we will look into a convient way to compute the confidence interval in a dataframe."
   ]
  },
  {
   "cell_type": "markdown",
   "metadata": {
    "deletable": false,
    "editable": false,
    "nbgrader": {
     "grade": false,
     "locked": true,
     "solution": false
    }
   },
   "source": [
    "[Back to top](#Index:) \n",
    "\n",
    "### Question 11\n",
    "\n",
    "**10 points**\n",
    "\n",
    "Below, we define a toy dataframe and we visualize it. Use the function `groupby()` on the attribute `Model` in the dataframe `df` followed by the function `.agg()` to compute the mean, the count, and the standard deviation of the attribute `Power`. Assign the result to the dataframe `stats`.\n",
    "\n",
    "**HINT:** Information about the function `.agg()` can be found [here](https://pandas.pydata.org/pandas-docs/stable/reference/api/pandas.DataFrame.agg.html).\n",
    "\n",
    "**Question 12 is dependent on Question 11**"
   ]
  },
  {
   "cell_type": "code",
   "execution_count": 25,
   "metadata": {
    "deletable": false,
    "editable": false,
    "nbgrader": {
     "grade": false,
     "locked": true,
     "solution": false
    }
   },
   "outputs": [
    {
     "data": {
      "text/html": [
       "<div>\n",
       "<style scoped>\n",
       "    .dataframe tbody tr th:only-of-type {\n",
       "        vertical-align: middle;\n",
       "    }\n",
       "\n",
       "    .dataframe tbody tr th {\n",
       "        vertical-align: top;\n",
       "    }\n",
       "\n",
       "    .dataframe thead th {\n",
       "        text-align: right;\n",
       "    }\n",
       "</style>\n",
       "<table border=\"1\" class=\"dataframe\">\n",
       "  <thead>\n",
       "    <tr style=\"text-align: right;\">\n",
       "      <th></th>\n",
       "      <th>Model</th>\n",
       "      <th>Power</th>\n",
       "    </tr>\n",
       "  </thead>\n",
       "  <tbody>\n",
       "    <tr>\n",
       "      <td>0</td>\n",
       "      <td>A1</td>\n",
       "      <td>50</td>\n",
       "    </tr>\n",
       "    <tr>\n",
       "      <td>1</td>\n",
       "      <td>A1</td>\n",
       "      <td>150</td>\n",
       "    </tr>\n",
       "    <tr>\n",
       "      <td>2</td>\n",
       "      <td>A1</td>\n",
       "      <td>100</td>\n",
       "    </tr>\n",
       "    <tr>\n",
       "      <td>3</td>\n",
       "      <td>A2</td>\n",
       "      <td>120</td>\n",
       "    </tr>\n",
       "    <tr>\n",
       "      <td>4</td>\n",
       "      <td>A3</td>\n",
       "      <td>140</td>\n",
       "    </tr>\n",
       "    <tr>\n",
       "      <td>5</td>\n",
       "      <td>A3</td>\n",
       "      <td>160</td>\n",
       "    </tr>\n",
       "  </tbody>\n",
       "</table>\n",
       "</div>"
      ],
      "text/plain": [
       "  Model  Power\n",
       "0    A1     50\n",
       "1    A1    150\n",
       "2    A1    100\n",
       "3    A2    120\n",
       "4    A3    140\n",
       "5    A3    160"
      ]
     },
     "execution_count": 25,
     "metadata": {},
     "output_type": "execute_result"
    }
   ],
   "source": [
    "df=pd.DataFrame({'Model': ['A1','A1','A1','A2','A3','A3'], \n",
    "                 'Power': [50,150,100,120,140,160] })\n",
    "df"
   ]
  },
  {
   "cell_type": "code",
   "execution_count": 26,
   "metadata": {
    "collapsed": true
   },
   "outputs": [],
   "source": [
    "### YOUR SOLUTION HERE\n",
    "stats = df.groupby(['Model'])['Power'].agg(['mean', 'count', 'std'])\n"
   ]
  },
  {
   "cell_type": "code",
   "execution_count": 27,
   "metadata": {
    "deletable": false,
    "editable": false,
    "nbgrader": {
     "grade": true,
     "grade_id": "Question 11",
     "locked": true,
     "points": "10",
     "solution": false
    }
   },
   "outputs": [
    {
     "name": "stdout",
     "output_type": "stream",
     "text": [
      "Correct!\n"
     ]
    }
   ],
   "source": [
    "###\n",
    "### AUTOGRADER TEST - DO NOT REMOVE\n",
    "###\n"
   ]
  },
  {
   "cell_type": "markdown",
   "metadata": {
    "deletable": false,
    "editable": false,
    "nbgrader": {
     "grade": false,
     "locked": true,
     "solution": false
    }
   },
   "source": [
    "[Back to top](#Index:) \n",
    "\n",
    "### Question 12\n",
    "\n",
    "**10 points**\n",
    "\n",
    "Define two empty lists, `ci95_hi` and `ci95_lo`.\n",
    "\n",
    "Complete the for loop below to append the upper and lower bounds on the confidence interval into the lists  `ci95_hi` and `ci95_lo`, respectively.\n",
    "\n",
    "```Python\n",
    "for i in stats.index:\n",
    "    m,c,s= stats.loc[i]\n",
    "    #complete from here..\n",
    "````\n",
    "\n",
    "**HINTS:** \n",
    "- The formula for the upper bound of the confidence interval for the mean $m$  with standard deviation $s$ and count $c$ is : $$\\text{upper_bound} = m+ \\frac{1.96*s}{\\sqrt{c}}$$\n",
    "\n",
    "- The formula for the lower bound of the confidence interval for the mean $m$  with standard deviation $s$ and count $c$ is : $$\\text{lower_bound} = m- \\frac{1.96*s}{\\sqrt{c}}$$\n",
    "\n",
    "Finally, add `ci95_hi` and `ci95_lo` to the dataframe `stats.`"
   ]
  },
  {
   "cell_type": "code",
   "execution_count": 28,
   "metadata": {
    "collapsed": true
   },
   "outputs": [],
   "source": [
    "### YOUR SOLUTION HERE\n",
    "ci95_hi = []\n",
    "ci95_lo = []\n",
    "\n",
    "for i in stats.index:\n",
    "    m, c, s = stats.loc[i]\n",
    "    ci95_hi.append(m + 1.96*s/math.sqrt(c))\n",
    "    ci95_lo.append(m - 1.96*s/math.sqrt(c))\n",
    "\n",
    "stats['ci95_hi'] = ci95_hi\n",
    "stats['ci95_lo'] = ci95_lo\n"
   ]
  },
  {
   "cell_type": "code",
   "execution_count": 29,
   "metadata": {
    "deletable": false,
    "editable": false,
    "nbgrader": {
     "grade": true,
     "grade_id": "Question 12",
     "locked": true,
     "points": "10",
     "solution": false
    }
   },
   "outputs": [
    {
     "name": "stdout",
     "output_type": "stream",
     "text": [
      "Correct!\n"
     ]
    }
   ],
   "source": [
    "###\n",
    "### AUTOGRADER TEST - DO NOT REMOVE\n",
    "###\n"
   ]
  }
 ],
 "metadata": {
  "kernelspec": {
   "display_name": "Python 3",
   "language": "python",
   "name": "python3"
  },
  "language_info": {
   "codemirror_mode": {
    "name": "ipython",
    "version": 3
   },
   "file_extension": ".py",
   "mimetype": "text/x-python",
   "name": "python",
   "nbconvert_exporter": "python",
   "pygments_lexer": "ipython3",
   "version": "3.7.6"
  }
 },
 "nbformat": 4,
 "nbformat_minor": 4
}
