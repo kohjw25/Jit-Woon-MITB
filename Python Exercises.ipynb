{
 "cells": [
  {
   "cell_type": "markdown",
   "metadata": {},
   "source": [
    "# Basic Python Exercises"
   ]
  },
  {
   "cell_type": "code",
   "execution_count": null,
   "metadata": {},
   "outputs": [],
   "source": []
  },
  {
   "cell_type": "markdown",
   "metadata": {},
   "source": [
    "## Question 1  (15 marks)"
   ]
  },
  {
   "cell_type": "markdown",
   "metadata": {},
   "source": [
    "### Problem Statement\n",
    "Define a function ```switch_letter(s)``` that takes in a string s and returns a new string by turning all upper-case letters into lower-case and all lower-case letters into upper-case, and keeping other characters unchanged.\n",
    "\n",
    "#### you should not import any module. Finish your answer with basic Python expressions only."
   ]
  },
  {
   "cell_type": "raw",
   "metadata": {},
   "source": [
    "Example 1: switch_letter(\"A@$bc2\") should return \"a@$BC2\"\n",
    "\n",
    "Example 2: switch_letter(\"Hello-World\") should return \"hELLO-wORLD\""
   ]
  },
  {
   "cell_type": "raw",
   "metadata": {},
   "source": [
    "Write your pseudo-code here\n",
    "\n",
    "for character in string:\n",
    "    if character is upper case, change to lower case.\n",
    "    else if character is lower case, change to upper case.\n",
    "    else return the same character in the new string for non-alphabets\n"
   ]
  },
  {
   "cell_type": "code",
   "execution_count": 1,
   "metadata": {},
   "outputs": [],
   "source": [
    "# define your function here\n",
    "\n",
    "def switch_letter(s):\n",
    "    new_string = ''\n",
    "    for char in s:\n",
    "        if char.isupper():\n",
    "            new_string += char.lower()\n",
    "        elif char.islower():\n",
    "            new_string += char.upper()\n",
    "        elif char.isalpha() == False:    \n",
    "            new_string += char\n",
    "    return new_string"
   ]
  },
  {
   "cell_type": "code",
   "execution_count": 2,
   "metadata": {
    "scrolled": true
   },
   "outputs": [
    {
     "data": {
      "text/plain": [
       "'tHERE IS AN IpHONE ON THE DESK!'"
      ]
     },
     "execution_count": 2,
     "metadata": {},
     "output_type": "execute_result"
    }
   ],
   "source": [
    "# test your function here\n",
    "# do not remove or change this cell\n",
    "switch_letter(\"There is an iPhone on the desk!\")\n"
   ]
  },
  {
   "cell_type": "code",
   "execution_count": null,
   "metadata": {},
   "outputs": [],
   "source": []
  },
  {
   "cell_type": "markdown",
   "metadata": {},
   "source": [
    "## Question 2 (15 marks)"
   ]
  },
  {
   "cell_type": "markdown",
   "metadata": {},
   "source": [
    "### Problem Statement\n",
    "Suppose in the beginning, a person starts at (0, 0) in a coordinate system. In each step, he can take a command to either go:\n",
    "- U: up certain units of length, e.g., U4 will make him go up 4 units\n",
    "- D: down certain units of length\n",
    "- L: left certain units of length\n",
    "- R: right certain units of length\n",
    "\n",
    "Define a function ```reverse_trajectory(s)``` that takes a list of a person's coordinates after each step and returns a string as a sequence of commands that would make the person end up in such coordinates."
   ]
  },
  {
   "cell_type": "markdown",
   "metadata": {},
   "source": [
    "Example 1: reverse_trajectory([(0,0), (0,2), (-4,2), (-4,8), (-4,0), (8,0), (8,-3) ]) returns the string 'U2L4U6D8R12D3'.\n",
    "\n",
    "Example 2: reverse_trajectory([(0, 0), (0, 1), (0, 0), (-1, 0), (0, 0)]) returns the string 'U1D1L1R1'.\n",
    "\n",
    "Example 3: reverse_trajectory([(0, 0)]) returns the empty string ''.\n",
    "\n"
   ]
  },
  {
   "cell_type": "raw",
   "metadata": {},
   "source": [
    "Write your pseudo-code here\n",
    "\n",
    "Check if length of tuple is 1 and tuple is (0,0)\n",
    "    return empty string\n",
    "\n",
    "current x_coordinate = 0\n",
    "current y_coordinate = 0\n",
    "create a variable = empty string to concatenate directions\n",
    "\n",
    "for tuple in list:\n",
    "    x,y = tuple (to unpack tuple)\n",
    "    compare x with x_coordinate\n",
    "        if x is greater than x_coordinate, concatenate result with R + (x - x_coordinate) \n",
    "        else if x is smaller than x_coordinate, concatenate result with L + (x_coordinate - x)\n",
    "        update x_coordinate to latest x\n",
    "        \n",
    "    compare y with y_coordinate\n",
    "        if y is greater than y_coordinate, concatenate result with U + (y - y_coordinate)\n",
    "        else if y is smaller than y_coordinate, concatenate result with D + (y_coordinate - y)\n",
    "        update y_coordinate to latest y\n",
    "\n",
    "return result"
   ]
  },
  {
   "cell_type": "code",
   "execution_count": 3,
   "metadata": {},
   "outputs": [],
   "source": [
    "# define your function here\n",
    "\n",
    "def reverse_trajectory(s):\n",
    "    if len(s) == 1:\n",
    "        if s[0] == (0,0):\n",
    "            return ''\n",
    "        else:\n",
    "            return \"First coordinate must begin with (0,0)\"\n",
    "    x_position = 0\n",
    "    y_position = 0\n",
    "    result = ''\n",
    "    for coord in s:\n",
    "        x,y = coord #Unpack tuple\n",
    "        if x != x_position:\n",
    "            if x > x_position:\n",
    "                result = result + 'R' + str(x - x_position)\n",
    "            else:\n",
    "                result = result + 'L' + str(x_position - x)\n",
    "            x_position = x\n",
    "        if y != y_position:\n",
    "            if y > y_position:\n",
    "                result = result + 'U' + str(y - y_position)\n",
    "            else:\n",
    "                result = result + 'D' + str(y_position - y)\n",
    "            y_position = y    \n",
    "    return result\n",
    "    "
   ]
  },
  {
   "cell_type": "code",
   "execution_count": 4,
   "metadata": {},
   "outputs": [
    {
     "data": {
      "text/plain": [
       "'U2L4U6D8R12D3'"
      ]
     },
     "execution_count": 4,
     "metadata": {},
     "output_type": "execute_result"
    }
   ],
   "source": [
    "# test your function here\n",
    "# do not remove or change this cell\n",
    "\n",
    "reverse_trajectory([(0, 0), (0, 2), (-4, 2), (-4, 8), (-4, 0), (8, 0), (8, -3)])"
   ]
  },
  {
   "cell_type": "code",
   "execution_count": null,
   "metadata": {},
   "outputs": [],
   "source": []
  },
  {
   "cell_type": "markdown",
   "metadata": {},
   "source": [
    "## Question 3 (15 marks)\n"
   ]
  },
  {
   "cell_type": "markdown",
   "metadata": {},
   "source": [
    "Implement a function histogram(), which takes in two parameters as follows:\n",
    "- a list that contains only positive integers that represent the heights of a histogram;\n",
    "- a symbol in the form of a character, for example: '*', 'x' or '-'\n",
    "and returns a histogram in text form.\n",
    "\n",
    "For example:\n",
    "histogram([1, 2, 3, 4], 'x') returns below string:\n",
    "```\n",
    "      x\n",
    "    x x\n",
    "  x x x\n",
    "x x x x\n",
    "```\n",
    "\n",
    "In the example above, each number in the list [1, 2, 3, 4] represents the height of the corresponding column. Using the given symbol 'x', the function generates the historgram denoted by the list and returns the histogram in string form.\n",
    "\n",
    "**Note 1: the columns are separated by a column of spaces(' ').**\n",
    "\n",
    "**Note 2: please don't import any module for this question. Otherwise, you will be heavily penalized.**"
   ]
  },
  {
   "cell_type": "markdown",
   "metadata": {},
   "source": [
    "Another example:\n",
    "\n",
    "histogram([4, 1, 3, 5], '$') returns:\n",
    "\n",
    "```\n",
    "      $\n",
    "$     $\n",
    "$   $ $\n",
    "$   $ $\n",
    "$ $ $ $\n",
    "```\n",
    "\n",
    "**Note: you don't have to verify the list or the symbol in your code. You can just assume they are legit inputs.**"
   ]
  },
  {
   "cell_type": "raw",
   "metadata": {},
   "source": [
    "Write your pseudo-code here\n",
    "\n",
    "First, create a list of strings using integer multiplied by specified symbol.\n",
    "Find the largest integer in ints to be used as the standardized length.\n",
    "\n",
    "Using the list of strings, create a new list where all the strings have the same length, with spaces in front for shorter strings.\n",
    "Using the zip function on the new list, transpose the new list such that they are bottom justified.\n",
    "Join the items in the new_list with a space in between each character."
   ]
  },
  {
   "cell_type": "markdown",
   "metadata": {},
   "source": [
    "1) Implement your function in the code cell below."
   ]
  },
  {
   "cell_type": "code",
   "execution_count": 12,
   "metadata": {},
   "outputs": [],
   "source": [
    "# implement your code below:\n",
    "\n",
    "def histogram(ints, sym): # don't change the function definition and the parameter list, otherwise no point will be given.\n",
    "    data = [i*sym for i in ints] # Create a list of objects with specified number of symbols\n",
    "    height = max(ints)\n",
    "    output = ''\n",
    "    for s in zip(*(s.rjust(height) for s in data)):\n",
    "        output = output + ' '.join(s) + '\\n'\n",
    "    return output"
   ]
  },
  {
   "cell_type": "code",
   "execution_count": 13,
   "metadata": {},
   "outputs": [
    {
     "name": "stdout",
     "output_type": "stream",
     "text": [
      "          #      \n",
      "          #      \n",
      "          # #    \n",
      "        # # #    \n",
      "        # # #    \n",
      "        # # #   #\n",
      "      # # # #   #\n",
      "    # # # # #   #\n",
      "#   # # # # #   #\n",
      "# # # # # # # # #\n",
      "\n"
     ]
    }
   ],
   "source": [
    "# Use the oupout below as your reference for your output.\n",
    "\n",
    "print(histogram([2, 1, 3, 4, 7, 10, 8, 1, 5], '#'))"
   ]
  },
  {
   "cell_type": "code",
   "execution_count": null,
   "metadata": {},
   "outputs": [],
   "source": []
  },
  {
   "cell_type": "markdown",
   "metadata": {},
   "source": [
    "2) Please impletement your function again without any `for` or `while` loop structure."
   ]
  },
  {
   "cell_type": "raw",
   "metadata": {},
   "source": [
    "Write your pseudo-code here\n",
    "\n",
    "Same method but using list comprehensions in place of for loops\n"
   ]
  },
  {
   "cell_type": "code",
   "execution_count": 7,
   "metadata": {},
   "outputs": [],
   "source": [
    "# implement your code below:\n",
    "\n",
    "def hist_noloop(ints, sym): # don't change the function definition and the parameter list, otherwise no point will be given.\n",
    "    data = [i*sym for i in ints]\n",
    "    height = max(ints) \n",
    "    zipped = zip(*(s.rjust(height) for s in data))\n",
    "    output = [print(\" \".join(n)) for n in zipped]\n",
    "    return output"
   ]
  },
  {
   "cell_type": "code",
   "execution_count": 8,
   "metadata": {},
   "outputs": [
    {
     "name": "stdout",
     "output_type": "stream",
     "text": [
      "          $ $        \n",
      "        $ $ $        \n",
      "        $ $ $ $      \n",
      "      $ $ $ $ $      \n",
      "      $ $ $ $ $      \n",
      "    $ $ $ $ $ $ $    \n",
      "  $ $ $ $ $ $ $ $ $  \n",
      "$ $ $ $ $ $ $ $ $ $ $\n",
      "[None, None, None, None, None, None, None, None]\n"
     ]
    }
   ],
   "source": [
    "# Use below output as your reference for your output.\n",
    "\n",
    "print(hist_noloop([1, 2, 3, 5, 7, 8, 8, 6, 3, 2, 1], '$'))"
   ]
  },
  {
   "cell_type": "code",
   "execution_count": null,
   "metadata": {},
   "outputs": [],
   "source": []
  },
  {
   "cell_type": "code",
   "execution_count": null,
   "metadata": {},
   "outputs": [],
   "source": []
  },
  {
   "cell_type": "markdown",
   "metadata": {},
   "source": [
    "## Question 4"
   ]
  },
  {
   "cell_type": "markdown",
   "metadata": {},
   "source": [
    "Suppose you are given two lists `a` and `b` both containing n integers each representing a point. The points in `a` are on the line y = 0; the points in `b` are on another line y = 1.\n",
    "\n",
    "Now connect a[i] and b[i] with a straight line segment for each i, in 0 to n-1, and there are n straight line segments that could intersect with one another.\n",
    "\n",
    "Write a function `pair_intersect()` that takes in the two lists `a` and `b` defined above and determines how many pairs of line segments intersect. \n",
    "\n",
    "**Note 1: two line segments intersecting on y = 0 or y = 1 do not count as an intersecting pair.**\n",
    "\n",
    "**Note 2: there are no two line segments sharing both the same starting point and the same ending point in a and b.**\n",
    "\n",
    "**Note 3: please don't import any module for this question. Otherwise, you will be heavily penalized.**"
   ]
  },
  {
   "cell_type": "markdown",
   "metadata": {},
   "source": [
    "Example 1:\n",
    "\n",
    "a = [1, 2, 3] and b = [2, 1, 3]\n",
    "\n",
    "pair_intersect(a, b) = 1"
   ]
  },
  {
   "cell_type": "markdown",
   "metadata": {},
   "source": [
    "Example 2:\n",
    "\n",
    "a = [3, 1, -1, 0] and b = [0, 2, 2, 3]\n",
    "\n",
    "pair_intersect(a, b) = 4"
   ]
  },
  {
   "cell_type": "raw",
   "metadata": {},
   "source": [
    "Write your pseudo-code here\n",
    "\n",
    "For each pair of line segments, to check if point of intersection exists. For example:\n",
    "Segment 1: (x1,y1),(x2,y2)\n",
    "Segment 2: (x3,y3),(x4,y4)\n",
    "\n",
    "For a point of intersection (Xa, Ya) to exist:\n",
    "Xa must be between the interval [max(min(x1,x2),min(x3,x4) and min(max(x1,x2),max(x3,x4)].\n",
    "\n",
    "if x1 == x3 or x2 == x4: #intersects on y = 0 or y = 1 do not count\n",
    "    continue\n",
    "\n",
    "else if (max(X1,X2) < min(X3,X4)) or (max(x3,x4) < min(x1,x2)): #None of the x_coordinates overlap\n",
    "    continue\n",
    "    \n",
    "else if (x3 > x1 and x4 > x2) or (x1 > x3 and x2 > x4): #The two x_coordinates on one line segment are both larger than the corresponding x_coordinates on the other line segment\n",
    "    continue\n",
    "    \n",
    "else: \n",
    "    intersects += 1\n",
    "    \n",
    "\n",
    "If there are 3 line segments (A,B,C), to check A with B and C, followed by B with C\n",
    "\n",
    "If there are 4 line segments (A,B,C,D), to check A with B, C and D, B with C and D, followed by C with D\n",
    "\n",
    "if there are a total of n line segments, to do (n-1)! comparisons.\n",
    "\n",
    "\n",
    "Run a while loop that terminates when the counter is equal to (n-1)!, where (n-1)! is the number of comparisons required.\n",
    "\n",
    "First start with a[i],b[i] and a[j],b[j] where i=0 and j=1. Increment j until it reaches the last index(n-1).\n",
    "\n",
    "After that, repeat the process using a[i+1],b[i+1] and compare with the subsequent line segments.\n",
    "\n",
    "Create a counter \"intersects\" to record the total number of intersects.\n"
   ]
  },
  {
   "cell_type": "code",
   "execution_count": 9,
   "metadata": {},
   "outputs": [],
   "source": [
    "# implement your code below:\n",
    "\n",
    "def pair_intersect(a, b): # don't change the function definition and the parameter list, otherwise no point will be given.\n",
    "    def factorial(n):\n",
    "        if n == 1:\n",
    "            return n\n",
    "        else:\n",
    "            return n * factorial(n-1)\n",
    "            \n",
    "    total_checks = factorial(len(a)-1)\n",
    "    counter = 0\n",
    "    intersects = 0\n",
    "    \n",
    "    i = 0\n",
    "    j = 1\n",
    "    \n",
    "    \n",
    "    while counter != total_checks:\n",
    "        while j < len(a):\n",
    "            if a[i] == a[j] or b[i] == b[j]:\n",
    "                counter += 1\n",
    "                j += 1\n",
    "                continue\n",
    "            elif max(a[i],b[i]) < min(a[j],b[j]) or max(a[j],b[j]) < min(a[i],b[i]):\n",
    "                j += 1\n",
    "                counter += 1\n",
    "                continue\n",
    "            elif (a[j] > a[i] and b[j] > b[i]) or (a[i] > a[j] and b[i] > b[j]):\n",
    "                j += 1\n",
    "                counter += 1\n",
    "                continue\n",
    "            else:\n",
    "                j += 1\n",
    "                counter += 1\n",
    "                intersects += 1\n",
    "        i += 1\n",
    "        j = i + 1\n",
    "    \n",
    "    \n",
    "    return intersects"
   ]
  },
  {
   "cell_type": "code",
   "execution_count": 10,
   "metadata": {},
   "outputs": [
    {
     "name": "stdout",
     "output_type": "stream",
     "text": [
      "1\n"
     ]
    }
   ],
   "source": [
    "# Use below oupout as your reference for your output.\n",
    "\n",
    "a = [1, 2, 3]\n",
    "b = [2, 1, 3]\n",
    "\n",
    "print(pair_intersect(a, b))"
   ]
  },
  {
   "cell_type": "code",
   "execution_count": 11,
   "metadata": {},
   "outputs": [
    {
     "name": "stdout",
     "output_type": "stream",
     "text": [
      "4\n"
     ]
    }
   ],
   "source": [
    "a = [3, 1, -1, 0]\n",
    "b = [0, 2, 2, 3]\n",
    "\n",
    "print(pair_intersect(a, b))"
   ]
  },
  {
   "cell_type": "code",
   "execution_count": 19,
   "metadata": {},
   "outputs": [
    {
     "name": "stdout",
     "output_type": "stream",
     "text": [
      "1\n"
     ]
    }
   ],
   "source": [
    "def pair_intersect(a, b):\n",
    "    initial_a = a[0]\n",
    "    initial_b = b[0]\n",
    "\n",
    "    r = 0 #used for indexing\n",
    "\n",
    "    count = 0\n",
    "\n",
    "    while initial_a != a[len(a) - 1] and initial_b != b[len(b) - 1]:\n",
    "        for i in range(r + 1, len(a)):\n",
    "            if initial_a == a[i] and initial_b == b[i]:\n",
    "                break\n",
    "\n",
    "            if initial_a > a[i] and initial_b < b[i] or initial_a < a[i] and initial_b > b[i]:\n",
    "                count += 1\n",
    "\n",
    "        r += 1\n",
    "        initial_a = a[r] \n",
    "        initial_b = b[r]\n",
    "\n",
    "    return count\n",
    "\n",
    " \n",
    "\n",
    "a = [1, 2, 3]\n",
    "b = [2, 1, 3]\n",
    "res = pair_intersect(a, b)\n",
    "print(res)"
   ]
  },
  {
   "cell_type": "code",
   "execution_count": 20,
   "metadata": {},
   "outputs": [
    {
     "name": "stdout",
     "output_type": "stream",
     "text": [
      "4\n"
     ]
    }
   ],
   "source": [
    "a = [3, 1, -1, 0]\n",
    "b = [0, 2, 2, 3]\n",
    "\n",
    "print(pair_intersect(a, b))"
   ]
  },
  {
   "cell_type": "markdown",
   "metadata": {},
   "source": [
    "## Question 5"
   ]
  },
  {
   "cell_type": "markdown",
   "metadata": {},
   "source": [
    "Write a function `matrix_rotate()` that takes below parameters:\n",
    "- an n-by-n matrix in the form of a list containing n lists with length n.\n",
    "- degrees to rotate, which is a multiple of 90, e.g., 0, 90, 180, 270, 360, 540, etc.\n",
    "- clockwise, which takes the value of either True or False. True means to rotate the matrix clockwise, False anticlockwise.\n",
    "\n",
    "and returns the matrix after the rotation in the same length-n list representation.\n",
    "\n",
    "**note: please don't import any module for this question. Otherwise, you will be heavily penalized.**"
   ]
  },
  {
   "cell_type": "markdown",
   "metadata": {},
   "source": [
    "For example:\n",
    "\n",
    "`\n",
    "matrix = [ [0, 1, 2], [3, 4, 5], [6, 7, 8] ]\n",
    "`\n",
    "\n",
    "then `matrix_rotate(matrix, 90, True)` returns\n",
    "\n",
    "`[ [6, 3, 0], [7, 4, 1], [8, 5, 2] ]`"
   ]
  },
  {
   "cell_type": "raw",
   "metadata": {},
   "source": [
    "Write your pseudo-code here\n",
    "\n",
    "create 2 helper functions to initiate clockwise and counter-clockwise rotation.\n",
    "\n",
    "Original 3x3 matrix indexes:\n",
    "[0,0][1,0][2,0]\n",
    "[1,0][1,1][2,1]\n",
    "[2,0][2,1][2,2]   \n",
    "\n",
    "Clockwise: \n",
    "[2,0][1,0][0,0]\n",
    "[2,1][1,1][0,1]\n",
    "[2,2][1,2][0,2]    -> matrix[a][b] for a(row) -> 2,1,0 for b(column) -> 0,1,2\n",
    "\n",
    "Anti-clockwise:\n",
    "[0,2][1,2][2,2]\n",
    "[0,1][1,1][2,1]\n",
    "[0,0][1,0][2,0]    -> matrix[a][b] for a(row) -> 0,1,2 for b(column) -> 2,1,0\n",
    "\n",
    "if clockwise = True, run while loop to determine how many iterations (degrees//90) of rotate_cw function to execute.\n",
    "\n",
    "if clockwise = False, run while loop to determine how many iterations (degrees//90) of rotate_ccw function to execute.\n",
    "\n",
    "return new_matrix\n",
    "\n"
   ]
  },
  {
   "cell_type": "code",
   "execution_count": 12,
   "metadata": {},
   "outputs": [],
   "source": [
    "# implement your code below:\n",
    "\n",
    "def matrix_rotate(matrix, degrees, clockwise = True): # don't change the function definition and the parameter list, otherwise no point will be given.\n",
    "    new_matrix = matrix\n",
    "    def rotate_cw(matrix):\n",
    "        return [[matrix[a][b] for a in range(len(matrix[0])-1,-1,-1)] for b in range(len(matrix))]\n",
    "    def rotate_ccw(matrix):\n",
    "        return [[matrix[a][b] for a in range(len(matrix))] for b in range(len(matrix[0])-1,-1,-1)]\n",
    "    \n",
    "    num_rotations = 0\n",
    "    \n",
    "    if clockwise == True:\n",
    "        while num_rotations != (degrees//90):\n",
    "            new_matrix = rotate_cw(new_matrix)\n",
    "            num_rotations += 1\n",
    "    if clockwise == False:\n",
    "        while num_rotations != (degrees//90):\n",
    "            new_matrix = rotate_ccw(new_matrix)\n",
    "            num_rotations += 1\n",
    "            \n",
    "    return new_matrix\n",
    " "
   ]
  },
  {
   "cell_type": "code",
   "execution_count": 13,
   "metadata": {},
   "outputs": [
    {
     "name": "stdout",
     "output_type": "stream",
     "text": [
      "orginal matrix: [[0, 1, 2], [3, 4, 5], [6, 7, 8]]\n"
     ]
    },
    {
     "data": {
      "text/plain": [
       "[[2, 5, 8], [1, 4, 7], [0, 3, 6]]"
      ]
     },
     "execution_count": 13,
     "metadata": {},
     "output_type": "execute_result"
    }
   ],
   "source": [
    "# Use below oupout as your reference for your output.\n",
    "\n",
    "n_dim = 3\n",
    "mat = [[n_dim*i+j for j in range(n_dim)] for i in range(n_dim)]\n",
    "\n",
    "print(f'orginal matrix: {mat}')\n",
    "matrix_rotate(mat, 90, False)"
   ]
  },
  {
   "cell_type": "code",
   "execution_count": null,
   "metadata": {},
   "outputs": [],
   "source": []
  },
  {
   "cell_type": "markdown",
   "metadata": {},
   "source": [
    "## Question 6"
   ]
  },
  {
   "cell_type": "markdown",
   "metadata": {},
   "source": [
    "Define a function ```rearrange(l)``` that takes in a list $l$, which could contain any scalar data items(int, float, bool, None, etc.), and container data items(strings, lists or tuples). The container data item could be nested, i.e., they may in turn contain other container data items.  For an input list $l$, we define the scalar data items and container data items immediately contained by $l$ to be level 0; for a container data item $d$ at level $i$, all data items it immediately contains are at level $i+1$. Your function ```rearrange(l)``` should return a rearranged list $l'$ which contains all data items in $l$ in ascending order by their level. Data items of the same level should appear in the order they appear in $l$\n",
    "\n",
    "For example: \n",
    "\n",
    "a list [1, 2.0, [None,[3,True]], 'ab', [100, 200], ('o', 12)] will become: [1, 2.0, None,'a','b', 100, 200, 'o', 12, 3, True]\n",
    "\n",
    "a list [[1, ''], ('w', 'xy'), 'abc', 4.5, 2] will become [4.5, 2, 1, '', 'w', 'a','b', c', 'x', 'y']\n"
   ]
  },
  {
   "cell_type": "raw",
   "metadata": {},
   "source": [
    "Write your pseudo-code here\n",
    "\n",
    "Check the individual items by index, using a while loop and initializing from index = 0.\n",
    "\n",
    "Objects that are in container items (str,list,tuple) will be one level up (i+1). \n",
    "\n",
    "First, check if item is a string containing more than 1 character, if True, change the data type to list.\n",
    "\n",
    "Next, check if the item is a list or tuple. If True, remove the item from the list and place at the back of list l.\n",
    "-> This is because items that are one level higher (i+1) should be placed at the back of items at level i.\n",
    "\n",
    "If the item is not {str, tuple, list}, move on to check the item at the next index.\n",
    "\n",
    "After looping through all the items, return the sorted list.\n"
   ]
  },
  {
   "cell_type": "code",
   "execution_count": 15,
   "metadata": {},
   "outputs": [],
   "source": [
    "# define your function here\n",
    "\n",
    "def rearrange(l):\n",
    "    index = 0\n",
    "    while index < len(l):\n",
    "        if type(l[index]) is str and len(l[index]) > 1:\n",
    "            l[index] = list(l[index])\n",
    "            \n",
    "        if type(l[index]) is list or type(l[index]) is tuple:\n",
    "            item = l[index]\n",
    "            l.remove(item)\n",
    "            l.extend(item)\n",
    "        else:\n",
    "            index += 1\n",
    "    return l     "
   ]
  },
  {
   "cell_type": "code",
   "execution_count": 16,
   "metadata": {},
   "outputs": [
    {
     "data": {
      "text/plain": [
       "[1, 2.0, None, 'a', 'b', 100, 200, 'o', 12, 3, True]"
      ]
     },
     "execution_count": 16,
     "metadata": {},
     "output_type": "execute_result"
    }
   ],
   "source": [
    "# test your function here\n",
    "# do not remove or change this cell\n",
    "rearrange([1, 2.0, [None,[3,True]], 'ab', [100, 200], ('o', 12)])"
   ]
  },
  {
   "cell_type": "code",
   "execution_count": 17,
   "metadata": {},
   "outputs": [
    {
     "data": {
      "text/plain": [
       "[4.5, 2, 1, '', 'w', 'a', 'b', 'c', 'x', 'y']"
      ]
     },
     "execution_count": 17,
     "metadata": {},
     "output_type": "execute_result"
    }
   ],
   "source": [
    "rearrange([[1, ''], ('w', 'xy'), 'abc', 4.5, 2])"
   ]
  },
  {
   "cell_type": "code",
   "execution_count": 1,
   "metadata": {},
   "outputs": [],
   "source": [
    "def rearrange(l):\n",
    "    if not l: return l\n",
    "    flat, next_lvl = [], []\n",
    "    for item in l:\n",
    "        if type(item) in [int,float,bool] or item is None or (isinstance(item,str) and len(item) <= 1):\n",
    "            flat.append(item)\n",
    "        else:\n",
    "            next_lvl.extend(item)\n",
    "    print(flat,next_lvl)\n",
    "    return flat + rearrange(next_lvl)"
   ]
  },
  {
   "cell_type": "code",
   "execution_count": 2,
   "metadata": {},
   "outputs": [
    {
     "name": "stdout",
     "output_type": "stream",
     "text": [
      "[4.5, 2] [1, '', 'w', 'xy', 'a', 'b', 'c']\n",
      "[1, '', 'w', 'a', 'b', 'c'] ['x', 'y']\n",
      "['x', 'y'] []\n"
     ]
    },
    {
     "data": {
      "text/plain": [
       "[4.5, 2, 1, '', 'w', 'a', 'b', 'c', 'x', 'y']"
      ]
     },
     "execution_count": 2,
     "metadata": {},
     "output_type": "execute_result"
    }
   ],
   "source": [
    "rearrange([[1, ''], ('w', 'xy'), 'abc', 4.5, 2])"
   ]
  },
  {
   "cell_type": "code",
   "execution_count": null,
   "metadata": {},
   "outputs": [],
   "source": []
  }
 ],
 "metadata": {
  "kernelspec": {
   "display_name": "Python 3",
   "language": "python",
   "name": "python3"
  },
  "language_info": {
   "codemirror_mode": {
    "name": "ipython",
    "version": 3
   },
   "file_extension": ".py",
   "mimetype": "text/x-python",
   "name": "python",
   "nbconvert_exporter": "python",
   "pygments_lexer": "ipython3",
   "version": "3.7.6"
  }
 },
 "nbformat": 4,
 "nbformat_minor": 2
}
