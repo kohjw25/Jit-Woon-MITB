{
 "cells": [
  {
   "cell_type": "markdown",
   "metadata": {},
   "source": [
    "# Guessing Game Challenge\n",
    "\n",
    "Let's use `while` loops to create a guessing game.\n",
    "\n",
    "The Challenge:\n",
    "\n",
    "Write a program that picks a random integer from 1 to 100, and has players guess the number. The rules are:\n",
    "\n",
    "1. If a player's guess is less than 1 or greater than 100, say \"OUT OF BOUNDS\"\n",
    "2. On a player's first turn, if their guess is\n",
    " * within 10 of the number, return \"WARM!\"\n",
    " * further than 10 away from the number, return \"COLD!\"\n",
    "3. On all subsequent turns, if a guess is \n",
    " * closer to the number than the previous guess return \"WARMER!\"\n",
    " * farther from the number than the previous guess, return \"COLDER!\"\n",
    "4. When the player's guess equals the number, tell them they've guessed correctly *and* how many guesses it took!\n",
    "\n",
    "You can try this from scratch, or follow the steps outlined below. A separate Solution notebook has been provided. Good luck!\n"
   ]
  },
  {
   "cell_type": "markdown",
   "metadata": {},
   "source": [
    "#### First, pick a random integer from 1 to 100 using the random module and assign it to a variable\n",
    "\n",
    "Note: `random.randint(a,b)` returns a random integer in range `[a, b]`, including both end points."
   ]
  },
  {
   "cell_type": "code",
   "execution_count": 1,
   "metadata": {},
   "outputs": [
    {
     "name": "stdout",
     "output_type": "stream",
     "text": [
      "14\n"
     ]
    }
   ],
   "source": [
    "import random\n",
    "num = random.randint(1,100)\n",
    "print(num)"
   ]
  },
  {
   "cell_type": "markdown",
   "metadata": {},
   "source": [
    "#### Next, print an introduction to the game and explain the rules"
   ]
  },
  {
   "cell_type": "code",
   "execution_count": 2,
   "metadata": {},
   "outputs": [
    {
     "name": "stdout",
     "output_type": "stream",
     "text": [
      "\n",
      "Welcome to the Guessing Game.\n",
      "I am thinking of a number between 1 and 100.\n",
      "If your guess is more than 10 away from my number, I'll tell you you're COLD.\n",
      "If your guess is within 10 of my number, I'll tell you you're WARM.\n",
      "If your guess is farther than your most recent guess, I'll say you're getting COLDER.\n",
      "If your guess is closer than your most recent guess, I'll say you're getting WARMER.\n",
      "Good luck!\n",
      "\n"
     ]
    }
   ],
   "source": [
    "print(\"\"\"\n",
    "Welcome to the Guessing Game.\n",
    "I am thinking of a number between 1 and 100.\n",
    "If your guess is more than 10 away from my number, I'll tell you you're COLD.\n",
    "If your guess is within 10 of my number, I'll tell you you're WARM.\n",
    "If your guess is farther than your most recent guess, I'll say you're getting COLDER.\n",
    "If your guess is closer than your most recent guess, I'll say you're getting WARMER.\n",
    "Good luck!\n",
    "\"\"\")"
   ]
  },
  {
   "cell_type": "markdown",
   "metadata": {},
   "source": [
    "#### Create a list to store guesses\n",
    "\n",
    "Hint: zero is a good placeholder value. It's useful because it evaluates to \"False\""
   ]
  },
  {
   "cell_type": "code",
   "execution_count": 3,
   "metadata": {},
   "outputs": [],
   "source": [
    "guesses = [0]"
   ]
  },
  {
   "cell_type": "markdown",
   "metadata": {},
   "source": [
    "#### Write a `while` loop that asks for a valid guess. Test it a few times to make sure it works."
   ]
  },
  {
   "cell_type": "code",
   "execution_count": 4,
   "metadata": {},
   "outputs": [
    {
     "name": "stdout",
     "output_type": "stream",
     "text": [
      "I'm thinking of a number between 1 and 100. What is your guess?200\n",
      "Out of bounds! Please try again.\n",
      "I'm thinking of a number between 1 and 100. What is your guess?50\n"
     ]
    }
   ],
   "source": [
    "while True:\n",
    "    guess = int(input(\"I'm thinking of a number between 1 and 100. What is your guess?\"))\n",
    "    if guess > 100 or guess < 1:\n",
    "        print('Out of bounds! Please try again.')\n",
    "        continue\n",
    "    break"
   ]
  },
  {
   "cell_type": "markdown",
   "metadata": {},
   "source": [
    "#### Write a `while` loop that compares the player's guess to our number. If the player guesses correctly, break from the loop. Otherwise, tell the player if they're warmer or colder, and continue asking for guesses.\n",
    "\n",
    "Some hints:\n",
    "* it may help to sketch out all possible combinations on paper first!\n",
    "* you can use the `abs()` function to find the positive difference between two numbers\n",
    "* if you append all new guesses to the list, then the previous guess is given as `guesses[-2]`"
   ]
  },
  {
   "cell_type": "code",
   "execution_count": 5,
   "metadata": {},
   "outputs": [
    {
     "name": "stdout",
     "output_type": "stream",
     "text": [
      "I'm thinking of a number between 1 and 100.\n",
      "  What is your guess? 50\n",
      "COLD\n",
      "I'm thinking of a number between 1 and 100.\n",
      "  What is your guess? 40\n",
      "WARMER\n",
      "I'm thinking of a number between 1 and 100.\n",
      "  What is your guess? 60\n",
      "COLDER\n",
      "I'm thinking of a number between 1 and 100.\n",
      "  What is your guess? 20\n",
      "WARMER\n",
      "I'm thinking of a number between 1 and 100.\n",
      "  What is your guess? 15\n",
      "WARMER\n",
      "I'm thinking of a number between 1 and 100.\n",
      "  What is your guess? 14\n",
      "Congratulations! You guessed it correctly in 6 attempts.\n"
     ]
    }
   ],
   "source": [
    "while True:\n",
    "    guess = int(input(\"I'm thinking of a number between 1 and 100.\\n  What is your guess? \"))\n",
    "    \n",
    "    if guess > 100 or guess < 1:\n",
    "        print('Out of bounds! Please try again.')\n",
    "        continue\n",
    "        \n",
    "    if guess == num:\n",
    "        print(f'Congratulations! You guessed it correctly in {len(guesses)} attempts.')\n",
    "        break\n",
    "        \n",
    "    #if the guess is incorrect, add guess to list\n",
    "    guesses.append(guess)\n",
    "\n",
    "    #for the first guess, guesses[-2] will be 0 by default (False), bypassing if statement\n",
    "    if guesses[-2]:\n",
    "        if abs(num - guess) > abs(num - guesses[-2]):\n",
    "            print('COLDER')\n",
    "        else:\n",
    "            print('WARMER')\n",
    "    else:\n",
    "        if abs(num - guess) > 10:\n",
    "            print('COLD')\n",
    "        else:\n",
    "            print('WARM')"
   ]
  },
  {
   "cell_type": "markdown",
   "metadata": {},
   "source": [
    "That's it! You've just programmed your first game!"
   ]
  },
  {
   "cell_type": "markdown",
   "metadata": {},
   "source": [
    "Alternative solution:"
   ]
  },
  {
   "cell_type": "code",
   "execution_count": 6,
   "metadata": {},
   "outputs": [
    {
     "name": "stdout",
     "output_type": "stream",
     "text": [
      "I'm thinking of a number between 1 and 100.\n",
      "  What is your guess? 50\n",
      "COLD!\n",
      "I'm thinking of a number between 1 and 100.\n",
      "  What is your guess? 60\n",
      "COLDER!\n",
      "I'm thinking of a number between 1 and 100.\n",
      "  What is your guess? 20\n",
      "WARMER!\n",
      "I'm thinking of a number between 1 and 100.\n",
      "  What is your guess? 30\n",
      "COLDER!\n",
      "I'm thinking of a number between 1 and 100.\n",
      "  What is your guess? 15\n",
      "COLDER!\n",
      "I'm thinking of a number between 1 and 100.\n",
      "  What is your guess? 25\n",
      "Congratulations! You guessed it correctly in 6 attempts.\n"
     ]
    }
   ],
   "source": [
    "num = random.randint(1,100)\n",
    "\n",
    "count = 0\n",
    "old_guess = 0\n",
    "\n",
    "while True:\n",
    "    guess = int(input(\"I'm thinking of a number between 1 and 100.\\n  What is your guess? \"))\n",
    "    \n",
    "    if guess > 100 or guess < 1:\n",
    "        print('Out of bounds! Please try again.')\n",
    "        continue\n",
    "        \n",
    "    if guess == num:\n",
    "        count+=1\n",
    "        print(f'Congratulations! You guessed it correctly in {count} attempts.')\n",
    "        break\n",
    "    \n",
    "    #For the first guess\n",
    "    if count == 0:\n",
    "        if abs(num-guess) <= 10: \n",
    "            print('WARM!')\n",
    "        else:\n",
    "            print('COLD!')\n",
    "        count += 1\n",
    "        oldGuess = guess\n",
    "    #For the second guess onwards\n",
    "    else:\n",
    "        if abs(num-guess) < abs(num-oldGuess):\n",
    "            print('WARMER!')\n",
    "        else:\n",
    "            print('COLDER!')\n",
    "        count += 1\n",
    "        oldGuess = guess\n",
    "\n",
    "            "
   ]
  },
  {
   "cell_type": "code",
   "execution_count": null,
   "metadata": {},
   "outputs": [],
   "source": []
  }
 ],
 "metadata": {
  "kernelspec": {
   "display_name": "Python 3",
   "language": "python",
   "name": "python3"
  },
  "language_info": {
   "codemirror_mode": {
    "name": "ipython",
    "version": 3
   },
   "file_extension": ".py",
   "mimetype": "text/x-python",
   "name": "python",
   "nbconvert_exporter": "python",
   "pygments_lexer": "ipython3",
   "version": "3.7.4"
  }
 },
 "nbformat": 4,
 "nbformat_minor": 2
}
